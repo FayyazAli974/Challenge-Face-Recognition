{
 "cells": [
  {
   "cell_type": "markdown",
   "metadata": {
    "colab_type": "text",
    "id": "p-Of0ndkXwUT"
   },
   "source": [
    "# Data Challenge - MDI 343"
   ]
  },
  {
   "cell_type": "code",
   "execution_count": 0,
   "metadata": {
    "colab": {},
    "colab_type": "code",
    "id": "N5YmodI5XwUV"
   },
   "outputs": [],
   "source": [
    "%matplotlib inline\n",
    "import numpy as np\n",
    "import sys\n",
    "import os\n",
    "import matplotlib.pyplot as plt\n",
    "import math\n",
    "from sklearn.linear_model import LogisticRegression\n",
    "import xgboost as xgb\n",
    "import time\n",
    "\n",
    "from sklearn.ensemble import GradientBoostingClassifier\n",
    "from scipy import stats\n",
    "from xgboost.sklearn import XGBClassifier\n",
    "from sklearn.model_selection import cross_val_score, RandomizedSearchCV, KFold\n",
    "from sklearn import metrics\n",
    "from sklearn.model_selection import train_test_split, GridSearchCV\n",
    "\n",
    "from sklearn.ensemble import GradientBoostingClassifier\n",
    "from sklearn.metrics import make_scorer\n",
    "from sklearn.metrics import roc_curve, auc\n",
    "import operator\n",
    "\n",
    "import pandas as pd\n",
    "import seaborn as sns\n",
    "\n",
    "import lightgbm as lgb"
   ]
  },
  {
   "cell_type": "code",
   "execution_count": 0,
   "metadata": {
    "colab": {
     "base_uri": "https://localhost:8080/",
     "height": 122
    },
    "colab_type": "code",
    "executionInfo": {
     "elapsed": 18717,
     "status": "ok",
     "timestamp": 1582928733206,
     "user": {
      "displayName": "Fayyaz ALI",
      "photoUrl": "",
      "userId": "03919327045185491199"
     },
     "user_tz": -60
    },
    "id": "0lSywcimcyYq",
    "outputId": "f223bec7-9289-40eb-f0c8-e70bde82d691"
   },
   "outputs": [
    {
     "name": "stdout",
     "output_type": "stream",
     "text": [
      "Go to this URL in a browser: https://accounts.google.com/o/oauth2/auth?client_id=947318989803-6bn6qk8qdgf4n4g3pfee6491hc0brc4i.apps.googleusercontent.com&redirect_uri=urn%3aietf%3awg%3aoauth%3a2.0%3aoob&response_type=code&scope=email%20https%3a%2f%2fwww.googleapis.com%2fauth%2fdocs.test%20https%3a%2f%2fwww.googleapis.com%2fauth%2fdrive%20https%3a%2f%2fwww.googleapis.com%2fauth%2fdrive.photos.readonly%20https%3a%2f%2fwww.googleapis.com%2fauth%2fpeopleapi.readonly\n",
      "\n",
      "Enter your authorization code:\n",
      "··········\n",
      "Mounted at /content/drive\n"
     ]
    }
   ],
   "source": [
    "from google.colab import drive\n",
    "drive.mount('/content/drive')"
   ]
  },
  {
   "cell_type": "markdown",
   "metadata": {
    "colab_type": "text",
    "id": "qYlBM-XsXwU2"
   },
   "source": [
    "# Fayyaz"
   ]
  },
  {
   "cell_type": "code",
   "execution_count": 0,
   "metadata": {
    "colab": {},
    "colab_type": "code",
    "id": "7Cgie9yZXwU5"
   },
   "outputs": [],
   "source": [
    "xtrain = pd.read_csv('/content/drive/My Drive/Colab Notebooks/xtrain_challenge.csv')\n",
    "ytrain = pd.read_csv('/content/drive/My Drive/Colab Notebooks/ytrain_challenge.csv')\n",
    "xtest = pd.read_csv('/content/drive/My Drive/Colab Notebooks/xtest_challenge.csv')"
   ]
  },
  {
   "cell_type": "markdown",
   "metadata": {
    "colab_type": "text",
    "id": "JAN58jTmXwVf"
   },
   "source": [
    "# <span style=\"color:red\"> test de 's4' sur la plateforme: 0.75"
   ]
  },
  {
   "cell_type": "code",
   "execution_count": 0,
   "metadata": {
    "colab": {},
    "colab_type": "code",
    "id": "er5TbdOKz8-k"
   },
   "outputs": [],
   "source": [
    "predictors = [x for x in xtrain.columns if x not in ['s6','s10','qr4','qr6','qs9','qs10']]\n",
    "\n",
    "nrows = xtrain.shape[0]\n",
    "chosen_idx = np.random.choice(nrows, replace = False, size = 1000000)\n",
    "X = xtrain[predictors].iloc[chosen_idx]#.to_numpy()\n",
    "y = ytrain.iloc[chosen_idx]#.to_numpy()"
   ]
  },
  {
   "cell_type": "code",
   "execution_count": 0,
   "metadata": {
    "colab": {},
    "colab_type": "code",
    "id": "ipKWdJ-hXwVo"
   },
   "outputs": [],
   "source": [
    "clf_xgb = XGBClassifier(objective = 'binary:logistic')\n",
    "#param_dist = {'n_estimators': stats.randint(150, 500),\n",
    "#              'learning_rate': stats.uniform(0.01, 0.07),\n",
    "#              'subsample': stats.uniform(0.3, 0.7),\n",
    "#              'max_depth': [3, 4, 5, 6, 7, 8, 9],\n",
    "#              'colsample_bytree': stats.uniform(0.5, 0.45),\n",
    "#              'min_child_weight': [1, 2, 3]\n",
    "#             }\n",
    "\n",
    "              \n",
    "parameters = {'max_depth':[3, 4, 5, 6, 7, 8] ,'learning_rate':[0.01, 0.02, 0.03, 0.3],'min_child_weight': [1, 2, 3]}\n",
    "\n",
    "clf = GridSearchCV(estimator=clf_xgb, param_grid= parameters,cv=KFold(n_splits=10),scoring = 'roc_auc')\n",
    "clf.fit(X,y.values.ravel())#values.ravel()"
   ]
  },
  {
   "cell_type": "code",
   "execution_count": 0,
   "metadata": {
    "colab": {},
    "colab_type": "code",
    "id": "WPYagUn0XwVp"
   },
   "outputs": [],
   "source": [
    "ytest = clf.predict_proba(xtest[predictors])[:,clf.classes_ == 1][:,0]\n",
    "print(ytest.shape)\n",
    "np.savetxt('/content/drive/My Drive/Colab Notebooks/ytest_challenge_Fayyaz_xgboost5M.csv', ytest, fmt = '%1.15f', delimiter=',')"
   ]
  },
  {
   "cell_type": "markdown",
   "metadata": {
    "colab_type": "text",
    "id": "68lMdZFD0SyI"
   },
   "source": [
    "**Recréation d'un Train**"
   ]
  },
  {
   "cell_type": "code",
   "execution_count": 0,
   "metadata": {
    "colab": {},
    "colab_type": "code",
    "id": "aBa2w5WrNP6t"
   },
   "outputs": [],
   "source": [
    "from sklearn import preprocessing"
   ]
  },
  {
   "cell_type": "code",
   "execution_count": 0,
   "metadata": {
    "colab": {},
    "colab_type": "code",
    "id": "U8DAkJ6XzLk8"
   },
   "outputs": [],
   "source": [
    "scores = ['s1','s2','s3','s4','s5','s6','s7','s8','s9','s10','s11']\n",
    "scaler = preprocessing.StandardScaler()\n",
    "xtrain_s = scaler.fit_transform(xtrain[scores])\n",
    "xtrain_s = pd.DataFrame(xtrain_s, columns=xtrain[scores].columns)"
   ]
  },
  {
   "cell_type": "code",
   "execution_count": 0,
   "metadata": {
    "colab": {},
    "colab_type": "code",
    "id": "QmA6WvXpzZZT"
   },
   "outputs": [],
   "source": [
    "xtest_s = scaler.fit_transform(xtest[scores])\n",
    "xtest_s = pd.DataFrame(xtest_s, columns=xtrain[scores].columns)"
   ]
  },
  {
   "cell_type": "code",
   "execution_count": 0,
   "metadata": {
    "colab": {},
    "colab_type": "code",
    "id": "Cd4uJh8tM7tC"
   },
   "outputs": [],
   "source": [
    "xtrain_np = xtrain_s.to_numpy()\n",
    "xtest_np = xtest_s.to_numpy()"
   ]
  },
  {
   "cell_type": "code",
   "execution_count": 0,
   "metadata": {
    "colab": {},
    "colab_type": "code",
    "id": "HCb-nHNSF8jI"
   },
   "outputs": [],
   "source": [
    "i=1\n",
    "liste_indices = []\n",
    "for row in range(xtest_np.shape[0] - 23386,xtest_np.shape[0],1):\n",
    "    dist = np.linalg.norm(xtrain_np-xtest_np[row,:],axis=1)\n",
    "    liste_indices.extend(np.argsort(dist)[:2])\n",
    "    i = i+1\n",
    "    if i % 1000 == 1:\n",
    "        xtrain_u = pd.DataFrame(columns=xtest.columns)\n",
    "        xtrain_u = xtrain.loc[liste_indices,:]\n",
    "        np.savetxt('/content/drive/My Drive/Colab Notebooks/xtrain_u.csv', xtrain_u, fmt = '%1.15f', delimiter=',')\n",
    "        ytrain_u = pd.DataFrame(columns=ytrain.columns)\n",
    "        ytrain_u = ytrain.loc[liste_indices,:]\n",
    "        np.savetxt('/content/drive/My Drive/Colab Notebooks/ytrain_u.csv', ytrain_u, fmt = '%1.15f', delimiter=',')"
   ]
  },
  {
   "cell_type": "code",
   "execution_count": 0,
   "metadata": {
    "colab": {},
    "colab_type": "code",
    "id": "qTS9Q-Whw-bb"
   },
   "outputs": [],
   "source": [
    "xtrain_u = pd.DataFrame(columns=xtest.columns)\n",
    "xtrain_u = xtrain.loc[liste_indices,:]"
   ]
  },
  {
   "cell_type": "code",
   "execution_count": 0,
   "metadata": {
    "colab": {},
    "colab_type": "code",
    "id": "z_xcY_C5M5tt"
   },
   "outputs": [],
   "source": [
    "np.savetxt('/content/drive/My Drive/Colab Notebooks/xtrain_u.csv', xtrain_u, fmt = '%1.15f', delimiter=',')"
   ]
  },
  {
   "cell_type": "markdown",
   "metadata": {
    "colab_type": "text",
    "id": "9KrDSrYN8LTg"
   },
   "source": [
    "**XGBoost sur Xtrain Uf**"
   ]
  },
  {
   "cell_type": "code",
   "execution_count": 0,
   "metadata": {
    "colab": {},
    "colab_type": "code",
    "id": "FVXAtcYf8Ras"
   },
   "outputs": [],
   "source": [
    "scores = ['s1','s2','s3','s4','s5','s7','s8','s9','s11']\n",
    "\n",
    "xtrain_uf = pd.read_csv('/content/drive/My Drive/Colab Notebooks/xtrain_uf.csv',names = xtrain.columns)\n",
    "xtrain_uf = xtrain_uf[scores]\n",
    "\n",
    "ytrain_uf = pd.read_csv('/content/drive/My Drive/Colab Notebooks/ytrain_uf.csv',names = ytrain.columns)"
   ]
  },
  {
   "cell_type": "code",
   "execution_count": 0,
   "metadata": {
    "colab": {
     "base_uri": "https://localhost:8080/",
     "height": 323
    },
    "colab_type": "code",
    "executionInfo": {
     "elapsed": 647,
     "status": "ok",
     "timestamp": 1582079243114,
     "user": {
      "displayName": "Fayyaz ALI",
      "photoUrl": "",
      "userId": "03919327045185491199"
     },
     "user_tz": -240
    },
    "id": "1Xbx-Usv8y7n",
    "outputId": "98776622-6408-4238-f5d8-b89b7dc42d35"
   },
   "outputs": [
    {
     "data": {
      "text/plain": [
       "GridSearchCV(cv=KFold(n_splits=7, random_state=None, shuffle=False),\n",
       "             error_score=nan,\n",
       "             estimator=XGBClassifier(base_score=0.5, booster='gbtree',\n",
       "                                     colsample_bylevel=1, colsample_bynode=1,\n",
       "                                     colsample_bytree=1, gamma=0,\n",
       "                                     learning_rate=0.1, max_delta_step=0,\n",
       "                                     max_depth=3, min_child_weight=1,\n",
       "                                     missing=None, n_estimators=100, n_jobs=1,\n",
       "                                     nthread=None, objective='binary:logistic',\n",
       "                                     random_state=0, reg_alpha=0, reg_lambda=1,\n",
       "                                     scale_pos_weight=1, seed=None, silent=None,\n",
       "                                     subsample=1, verbosity=1),\n",
       "             iid='deprecated', n_jobs=None,\n",
       "             param_grid={'learning_rate': [0.01, 0.05, 0.07],\n",
       "                         'max_depth': [5, 8, 10], 'min_child_weight': [1, 3, 7],\n",
       "                         'n_estimators': [150]},\n",
       "             pre_dispatch='2*n_jobs', refit=True, return_train_score=False,\n",
       "             scoring='roc_auc', verbose=0)"
      ]
     },
     "execution_count": 5,
     "metadata": {
      "tags": []
     },
     "output_type": "execute_result"
    }
   ],
   "source": [
    "clf_xgb = XGBClassifier(objective = 'binary:logistic')\n",
    "#param_dist = {'n_estimators': stats.randint(150, 500),\n",
    "#              'learning_rate': stats.uniform(0.01, 0.07),\n",
    "#              'subsample': stats.uniform(0.3, 0.7),\n",
    "#              'max_depth': [3, 4, 5, 6, 7, 8, 9],\n",
    "#              'colsample_bytree': stats.uniform(0.5, 0.45),\n",
    "#              'min_child_weight': [1, 2, 3]\n",
    "#             }\n",
    "\n",
    "              \n",
    "parameters = {'max_depth':[5, 8, 10] ,'learning_rate':[0.01, 0.05, 0.07],'min_child_weight': [1, 3, 7], 'n_estimators':[150]}\n",
    "\n",
    "clf = GridSearchCV(estimator=clf_xgb, param_grid= parameters,cv=KFold(n_splits=7),scoring = 'roc_auc')\n",
    "clf.fit(xtrain_uf,ytrain_uf.values.ravel())#values.ravel()"
   ]
  },
  {
   "cell_type": "code",
   "execution_count": 0,
   "metadata": {
    "colab": {
     "base_uri": "https://localhost:8080/",
     "height": 34
    },
    "colab_type": "code",
    "executionInfo": {
     "elapsed": 49852,
     "status": "ok",
     "timestamp": 1582094777638,
     "user": {
      "displayName": "Fayyaz ALI",
      "photoUrl": "",
      "userId": "03919327045185491199"
     },
     "user_tz": -240
    },
    "id": "6EM7Wa1t9L2J",
    "outputId": "013aec8c-0765-4c03-e95d-d11c829b8ae0"
   },
   "outputs": [
    {
     "name": "stdout",
     "output_type": "stream",
     "text": [
      "(3768311,)\n"
     ]
    }
   ],
   "source": [
    "ytest = clf.predict_proba(xtest)[:,clf.classes_ == 1][:,0]\n",
    "print(ytest.shape)\n",
    "np.savetxt('/content/drive/My Drive/Colab Notebooks/ytest_challenge_Fayyaz_unbiased2.csv', ytest, fmt = '%1.15f', delimiter=',')"
   ]
  },
  {
   "cell_type": "code",
   "execution_count": 0,
   "metadata": {
    "colab": {
     "base_uri": "https://localhost:8080/",
     "height": 34
    },
    "colab_type": "code",
    "executionInfo": {
     "elapsed": 107413,
     "status": "ok",
     "timestamp": 1582094899968,
     "user": {
      "displayName": "Fayyaz ALI",
      "photoUrl": "",
      "userId": "03919327045185491199"
     },
     "user_tz": -240
    },
    "id": "hyzUhXL4-Aff",
    "outputId": "eaa34233-08d9-4656-ef73-d2db617e00c7"
   },
   "outputs": [
    {
     "name": "stdout",
     "output_type": "stream",
     "text": [
      "0.942439811485591\n"
     ]
    }
   ],
   "source": [
    "fpr, tpr, threshold = roc_curve(ytrain['y'],  clf.predict_proba(xtrain)[:,clf.classes_ == 1][:,0])\n",
    "print(tpr[fpr<=0.0001][-1])"
   ]
  },
  {
   "cell_type": "markdown",
   "metadata": {
    "colab_type": "text",
    "id": "IHcnQYsYSXiF"
   },
   "source": [
    "**SVM**"
   ]
  },
  {
   "cell_type": "code",
   "execution_count": 0,
   "metadata": {
    "colab": {},
    "colab_type": "code",
    "id": "6LTbRJQA_BgX"
   },
   "outputs": [],
   "source": [
    "from sklearn import svm\n",
    "from sklearn.kernel_approximation import (RBFSampler,Nystroem)"
   ]
  },
  {
   "cell_type": "code",
   "execution_count": 0,
   "metadata": {
    "colab": {},
    "colab_type": "code",
    "id": "5hgZwdJzD6B3"
   },
   "outputs": [],
   "source": [
    "scores = ['s1','s2','s3','s4','s5','s7','s8','s9','s11']\n",
    "#scores = [x for x in xtrain.columns if x not in ['s6','s10','qr4','qr6','qs9','qs10']]\n",
    "\n",
    "xtrain_uf = pd.read_csv('/content/drive/My Drive/Colab Notebooks/xtrain_uf.csv',names = xtrain.columns)\n",
    "ytrain_uf = pd.read_csv('/content/drive/My Drive/Colab Notebooks/ytrain_uf.csv',names = ytrain.columns)\n",
    "\n",
    "chosen_idx = np.random.choice(xtrain.shape[0], replace = False, size = 1000000)\n",
    "\n",
    "xtrain_svm = xtrain_uf[scores] #.loc[chosen_idx,:]\n",
    "ytrain_svm = ytrain_uf  #.loc[chosen_idx,:]"
   ]
  },
  {
   "cell_type": "code",
   "execution_count": 0,
   "metadata": {
    "colab": {
     "base_uri": "https://localhost:8080/",
     "height": 51
    },
    "colab_type": "code",
    "executionInfo": {
     "elapsed": 408,
     "status": "ok",
     "timestamp": 1582618154248,
     "user": {
      "displayName": "Fayyaz ALI",
      "photoUrl": "",
      "userId": "03919327045185491199"
     },
     "user_tz": -60
    },
    "id": "ibUGsrDinw3K",
    "outputId": "ee37e3fa-caa3-4cac-c431-3e796808fb14"
   },
   "outputs": [
    {
     "name": "stdout",
     "output_type": "stream",
     "text": [
      "nombre de positifs: 4955\n",
      "nombre de négatifs: 116431\n"
     ]
    }
   ],
   "source": [
    "npos = ytrain_svm[ytrain_svm['y'] == 1].shape[0]\n",
    "nneg = ytrain_svm[ytrain_svm['y'] == 0].shape[0]\n",
    "print('nombre de positifs:', npos)\n",
    "print('nombre de négatifs:', nneg)"
   ]
  },
  {
   "cell_type": "code",
   "execution_count": 0,
   "metadata": {
    "colab": {},
    "colab_type": "code",
    "id": "dbiCz_AhpkVK"
   },
   "outputs": [],
   "source": [
    "chosen_idx = np.random.choice(nneg, replace = False, size = npos)"
   ]
  },
  {
   "cell_type": "code",
   "execution_count": 0,
   "metadata": {
    "colab": {},
    "colab_type": "code",
    "id": "yGg0PKnCoO3a"
   },
   "outputs": [],
   "source": [
    "x_tir_neg = xtrain_svm[ytrain_svm['y'] == 0].reset_index(drop=True).loc[chosen_idx,:]\n",
    "y_tir_neg = ytrain_svm[ytrain_svm['y'] == 0].reset_index(drop=True).loc[chosen_idx,:]\n",
    "x_pos = xtrain_svm[ytrain_svm['y'] == 1].reset_index(drop=True)\n",
    "y_pos = ytrain_svm[ytrain_svm['y'] == 1].reset_index(drop=True)"
   ]
  },
  {
   "cell_type": "code",
   "execution_count": 0,
   "metadata": {
    "colab": {},
    "colab_type": "code",
    "id": "hDvwE9ePEHQi"
   },
   "outputs": [],
   "source": [
    "x_f = pd.concat([x_tir_neg,x_pos]).reset_index(drop=True)\n",
    "y_f = pd.concat([y_tir_neg,y_pos]).reset_index(drop=True)"
   ]
  },
  {
   "cell_type": "code",
   "execution_count": 0,
   "metadata": {
    "colab": {},
    "colab_type": "code",
    "id": "ndAD9q_BEJ-V"
   },
   "outputs": [],
   "source": [
    "reorder_idx = np.random.choice(y_f.shape[0], replace = False, size = y_f.shape[0])\n",
    "x_f = x_f.loc[reorder_idx,:]\n",
    "y_f = y_f.loc[reorder_idx,:]"
   ]
  },
  {
   "cell_type": "code",
   "execution_count": 0,
   "metadata": {
    "colab": {
     "base_uri": "https://localhost:8080/",
     "height": 221
    },
    "colab_type": "code",
    "executionInfo": {
     "elapsed": 139367,
     "status": "ok",
     "timestamp": 1582618312772,
     "user": {
      "displayName": "Fayyaz ALI",
      "photoUrl": "",
      "userId": "03919327045185491199"
     },
     "user_tz": -60
    },
    "id": "qnr9sUpbScfT",
    "outputId": "cef982b9-22ab-4812-ce59-1fcaa4d4e309"
   },
   "outputs": [
    {
     "data": {
      "text/plain": [
       "GridSearchCV(cv=KFold(n_splits=5, random_state=None, shuffle=False),\n",
       "             error_score=nan,\n",
       "             estimator=SVC(C=1.0, break_ties=False, cache_size=200,\n",
       "                           class_weight=None, coef0=0.0,\n",
       "                           decision_function_shape='ovr', degree=3,\n",
       "                           gamma='scale', kernel='rbf', max_iter=-1,\n",
       "                           probability=False, random_state=None, shrinking=True,\n",
       "                           tol=0.001, verbose=False),\n",
       "             iid='deprecated', n_jobs=None,\n",
       "             param_grid={'C': [0.001, 0.01], 'gamma': [0.01, 0.1, 0.5, 1, 10]},\n",
       "             pre_dispatch='2*n_jobs', refit=True, return_train_score=False,\n",
       "             scoring=None, verbose=0)"
      ]
     },
     "execution_count": 22,
     "metadata": {
      "tags": []
     },
     "output_type": "execute_result"
    }
   ],
   "source": [
    "clf_svm = svm.SVC(kernel='rbf') #gamma = 'scale' \n",
    "\n",
    "Cs = [0.001, 0.01]\n",
    "gammas = [0.01, 0.1, 0.5, 1, 10]\n",
    "param_grid = {'C': Cs, 'gamma': gammas}\n",
    "GS_svm = GridSearchCV(clf_svm, param_grid, cv=KFold(n_splits=5))\n",
    "GS_svm.fit(x_f, y_f['y'])"
   ]
  },
  {
   "cell_type": "code",
   "execution_count": 0,
   "metadata": {
    "colab": {
     "base_uri": "https://localhost:8080/",
     "height": 34
    },
    "colab_type": "code",
    "executionInfo": {
     "elapsed": 3005306,
     "status": "ok",
     "timestamp": 1582625295979,
     "user": {
      "displayName": "Fayyaz ALI",
      "photoUrl": "",
      "userId": "03919327045185491199"
     },
     "user_tz": -60
    },
    "id": "Bua9xREwTHPo",
    "outputId": "f0bdf4b5-9a2e-4340-de91-158901bef065"
   },
   "outputs": [
    {
     "name": "stdout",
     "output_type": "stream",
     "text": [
      "0.00696528648603674\n"
     ]
    }
   ],
   "source": [
    "fpr, tpr, threshold = roc_curve(ytrain['y'],  GS_svm.decision_function(xtrain[scores]))\n",
    "print(tpr[fpr<=0.0001][-1])"
   ]
  },
  {
   "cell_type": "code",
   "execution_count": 0,
   "metadata": {
    "colab": {
     "base_uri": "https://localhost:8080/"
    },
    "colab_type": "code",
    "executionInfo": {
     "elapsed": 9154809,
     "status": "ok",
     "timestamp": 1582578563907,
     "user": {
      "displayName": "Fayyaz ALI",
      "photoUrl": "",
      "userId": "03919327045185491199"
     },
     "user_tz": -60
    },
    "id": "Dh-Ym_sETN0v",
    "outputId": "d8ea8f64-dfa7-4336-e151-480645c60fe7"
   },
   "outputs": [
    {
     "name": "stdout",
     "output_type": "stream",
     "text": [
      "(3768311,)\n"
     ]
    }
   ],
   "source": [
    "ytest = GS_svm.decision_function(xtest[scores])[:,0]\n",
    "print(ytest.shape)\n",
    "np.savetxt('/content/drive/My Drive/Colab Notebooks/ytest_challenge_Fayyaz_svm_gc_uf.csv', ytest, fmt = '%1.15f', delimiter=',')"
   ]
  },
  {
   "cell_type": "markdown",
   "metadata": {
    "colab_type": "text",
    "id": "gBGtqjP0Dr2m"
   },
   "source": [
    "**OSVM**"
   ]
  },
  {
   "cell_type": "code",
   "execution_count": 0,
   "metadata": {
    "colab": {},
    "colab_type": "code",
    "id": "aoS9icnb0c8e"
   },
   "outputs": [],
   "source": [
    "from sklearn.svm import OneClassSVM"
   ]
  },
  {
   "cell_type": "code",
   "execution_count": 0,
   "metadata": {
    "colab": {
     "base_uri": "https://localhost:8080/",
     "height": 34
    },
    "colab_type": "code",
    "executionInfo": {
     "elapsed": 876,
     "status": "ok",
     "timestamp": 1582266592346,
     "user": {
      "displayName": "Fayyaz ALI",
      "photoUrl": "",
      "userId": "03919327045185491199"
     },
     "user_tz": -240
    },
    "id": "DYgnwnUuTDdW",
    "outputId": "e9a706f0-fda5-45c4-d3c5-62a82a8dbc0d"
   },
   "outputs": [
    {
     "data": {
      "text/plain": [
       "0.07373762018549988"
      ]
     },
     "execution_count": 6,
     "metadata": {
      "tags": []
     },
     "output_type": "execute_result"
    }
   ],
   "source": [
    "scores = ['s1','s2','s3','s4','s5','s6','s7','s8','s9','s10','s11']\n",
    "ytrain[ytrain['y'] == 1].shape[0]/ytrain[ytrain['y'] == 0].shape[0]"
   ]
  },
  {
   "cell_type": "code",
   "execution_count": 0,
   "metadata": {
    "colab": {},
    "colab_type": "code",
    "id": "TiOK218wSU3K"
   },
   "outputs": [],
   "source": [
    "clf_osvm = OneClassSVM(nu=0.074, kernel=\"rbf\", gamma='scale')"
   ]
  },
  {
   "cell_type": "code",
   "execution_count": 0,
   "metadata": {
    "colab": {
     "base_uri": "https://localhost:8080/",
     "height": 51
    },
    "colab_type": "code",
    "executionInfo": {
     "elapsed": 3837100,
     "status": "ok",
     "timestamp": 1582296085634,
     "user": {
      "displayName": "Fayyaz ALI",
      "photoUrl": "",
      "userId": "03919327045185491199"
     },
     "user_tz": -240
    },
    "id": "D8cqMom6TiNQ",
    "outputId": "12f223f3-cc09-4dcb-af07-711d9c637748"
   },
   "outputs": [
    {
     "data": {
      "text/plain": [
       "OneClassSVM(cache_size=200, coef0=0.0, degree=3, gamma='scale', kernel='rbf',\n",
       "            max_iter=-1, nu=0.074, shrinking=True, tol=0.001, verbose=False)"
      ]
     },
     "execution_count": 11,
     "metadata": {
      "tags": []
     },
     "output_type": "execute_result"
    }
   ],
   "source": [
    "clf_osvm.fit(xtrain[scores][ytrain['y']==1])"
   ]
  },
  {
   "cell_type": "code",
   "execution_count": 0,
   "metadata": {
    "colab": {},
    "colab_type": "code",
    "id": "b2Dq2iQuTzKn"
   },
   "outputs": [],
   "source": [
    "ytest = clf_osvm.decision_function(xtest[scores])\n",
    "print(ytest.shape)\n",
    "np.savetxt('/content/drive/My Drive/Colab Notebooks/ytest_challenge_Fayyaz_osvm.csv', ytest, fmt = '%1.15f', delimiter=',')"
   ]
  },
  {
   "cell_type": "code",
   "execution_count": 0,
   "metadata": {
    "colab": {
     "base_uri": "https://localhost:8080/",
     "height": 181
    },
    "colab_type": "code",
    "executionInfo": {
     "elapsed": 2347,
     "status": "error",
     "timestamp": 1582309657531,
     "user": {
      "displayName": "Fayyaz ALI",
      "photoUrl": "",
      "userId": "03919327045185491199"
     },
     "user_tz": -240
    },
    "id": "50w_wh0OV0k8",
    "outputId": "83dc4da9-2bbb-47f0-e556-7b8ab588d796"
   },
   "outputs": [
    {
     "ename": "NameError",
     "evalue": "ignored",
     "output_type": "error",
     "traceback": [
      "\u001b[0;31m---------------------------------------------------------------------------\u001b[0m",
      "\u001b[0;31mNameError\u001b[0m                                 Traceback (most recent call last)",
      "\u001b[0;32m<ipython-input-1-652ccffc8628>\u001b[0m in \u001b[0;36m<module>\u001b[0;34m()\u001b[0m\n\u001b[0;32m----> 1\u001b[0;31m \u001b[0mfpr\u001b[0m\u001b[0;34m,\u001b[0m \u001b[0mtpr\u001b[0m\u001b[0;34m,\u001b[0m \u001b[0mthreshold\u001b[0m \u001b[0;34m=\u001b[0m \u001b[0mroc_curve\u001b[0m\u001b[0;34m(\u001b[0m\u001b[0mytrain\u001b[0m\u001b[0;34m[\u001b[0m\u001b[0;34m'y'\u001b[0m\u001b[0;34m]\u001b[0m\u001b[0;34m,\u001b[0m  \u001b[0mclf_osvm\u001b[0m\u001b[0;34m.\u001b[0m\u001b[0mdecision_function\u001b[0m\u001b[0;34m(\u001b[0m\u001b[0mxtrain\u001b[0m\u001b[0;34m[\u001b[0m\u001b[0mscores\u001b[0m\u001b[0;34m]\u001b[0m\u001b[0;34m)\u001b[0m\u001b[0;34m)\u001b[0m\u001b[0;34m\u001b[0m\u001b[0;34m\u001b[0m\u001b[0m\n\u001b[0m\u001b[1;32m      2\u001b[0m \u001b[0mprint\u001b[0m\u001b[0;34m(\u001b[0m\u001b[0mtpr\u001b[0m\u001b[0;34m[\u001b[0m\u001b[0mfpr\u001b[0m\u001b[0;34m<=\u001b[0m\u001b[0;36m0.0001\u001b[0m\u001b[0;34m]\u001b[0m\u001b[0;34m[\u001b[0m\u001b[0;34m-\u001b[0m\u001b[0;36m1\u001b[0m\u001b[0;34m]\u001b[0m\u001b[0;34m)\u001b[0m\u001b[0;34m\u001b[0m\u001b[0;34m\u001b[0m\u001b[0m\n",
      "\u001b[0;31mNameError\u001b[0m: name 'roc_curve' is not defined"
     ]
    }
   ],
   "source": [
    "fpr, tpr, threshold = roc_curve(ytrain['y'],  clf_osvm.decision_function(xtrain[scores]))\n",
    "print(tpr[fpr<=0.0001][-1])"
   ]
  },
  {
   "cell_type": "markdown",
   "metadata": {
    "colab_type": "text",
    "id": "uJf4Dd09wPh9"
   },
   "source": [
    "**Feature Engineering**"
   ]
  },
  {
   "cell_type": "code",
   "execution_count": 0,
   "metadata": {
    "colab": {},
    "colab_type": "code",
    "id": "kNlBjwRYwo2U"
   },
   "outputs": [],
   "source": [
    "xtrain_fe = xtrain.copy()"
   ]
  },
  {
   "cell_type": "code",
   "execution_count": 0,
   "metadata": {
    "colab": {
     "base_uri": "https://localhost:8080/",
     "height": 102
    },
    "colab_type": "code",
    "executionInfo": {
     "elapsed": 459,
     "status": "ok",
     "timestamp": 1582931113737,
     "user": {
      "displayName": "Fayyaz ALI",
      "photoUrl": "",
      "userId": "03919327045185491199"
     },
     "user_tz": -60
    },
    "id": "AK14F2CHx1O2",
    "outputId": "bdea131b-4c2a-4d80-ff39-2b12f2d28cd8"
   },
   "outputs": [
    {
     "data": {
      "text/plain": [
       "Index(['qs1', 'qs2', 'qs3', 'qs4', 'qs5', 'qs6', 'qs7', 'qs8', 'qs9', 'qs10',\n",
       "       'qs11', 'qs12', 'qs13', 'qr1', 'qr2', 'qr3', 'qr4', 'qr5', 'qr6', 'qr7',\n",
       "       'qr8', 'qr9', 'qr10', 'qr11', 'qr12', 'qr13', 's1', 's2', 's3', 's4',\n",
       "       's5', 's6', 's7', 's8', 's9', 's10', 's11'],\n",
       "      dtype='object')"
      ]
     },
     "execution_count": 37,
     "metadata": {
      "tags": []
     },
     "output_type": "execute_result"
    }
   ],
   "source": [
    "xtrain.columns"
   ]
  },
  {
   "cell_type": "code",
   "execution_count": 0,
   "metadata": {
    "colab": {},
    "colab_type": "code",
    "id": "SBUSprby2t_r"
   },
   "outputs": [],
   "source": [
    "xtrain_fe['dq2'] = abs(xtrain_fe['qs2']-xtrain_fe['qr2'])\n",
    "xtrain_fe['dq3'] = abs(xtrain_fe['qs3']-xtrain_fe['qr3'])\n",
    "xtrain_fe['dq4'] = abs(xtrain_fe['qs4']-xtrain_fe['qr4'])\n",
    "xtrain_fe['dq5'] = abs(xtrain_fe['qs5']-xtrain_fe['qr5'])\n",
    "xtrain_fe['dq6'] = abs(xtrain_fe['qs6']-xtrain_fe['qr6'])\n",
    "xtrain_fe['dq7'] = abs(xtrain_fe['qs7']-xtrain_fe['qr7'])\n",
    "xtrain_fe['dq8'] = abs(xtrain_fe['qs8']-xtrain_fe['qr8'])\n",
    "xtrain_fe['dq9'] = abs(xtrain_fe['qs9']-xtrain_fe['qr9'])\n",
    "xtrain_fe['dq10'] = abs(xtrain_fe['qs10']-xtrain_fe['qr10'])\n",
    "xtrain_fe['dq11'] = abs(xtrain_fe['qs11']-xtrain_fe['qr11'])\n",
    "xtrain_fe['dq12'] = abs(xtrain_fe['qs12']-xtrain_fe['qr12'])\n",
    "xtrain_fe['dq13'] = abs(xtrain_fe['qs13']-xtrain_fe['qr13'])"
   ]
  },
  {
   "cell_type": "code",
   "execution_count": 0,
   "metadata": {
    "colab": {},
    "colab_type": "code",
    "id": "wkdvN-9FyYun"
   },
   "outputs": [],
   "source": [
    "xtrain_fe = xtrain_fe.drop(columns =['qs2','qr2','qs3','qr3','qs4','qr4','qs5','qr5','qs6','qr6','qs7','qr7','qs8','qr8','qs9','qr9','qs10','qr10','qs11','qr11','qs12','qr12','qs13','qr13'])"
   ]
  },
  {
   "cell_type": "code",
   "execution_count": 0,
   "metadata": {
    "colab": {},
    "colab_type": "code",
    "id": "uJd3yFPHy9DB"
   },
   "outputs": [],
   "source": [
    "#xtrain_fe = xtrain_fe.drop(columns =['qs1','qr1'])"
   ]
  },
  {
   "cell_type": "code",
   "execution_count": 0,
   "metadata": {
    "colab": {},
    "colab_type": "code",
    "id": "wt9VQVRn4NMF"
   },
   "outputs": [],
   "source": [
    "xtrain_fe['y'] = ytrain['y']"
   ]
  },
  {
   "cell_type": "code",
   "execution_count": 0,
   "metadata": {
    "colab": {
     "base_uri": "https://localhost:8080/",
     "height": 931
    },
    "colab_type": "code",
    "executionInfo": {
     "elapsed": 22302,
     "status": "ok",
     "timestamp": 1582712753748,
     "user": {
      "displayName": "Fayyaz ALI",
      "photoUrl": "",
      "userId": "03919327045185491199"
     },
     "user_tz": -60
    },
    "id": "MfZnH3D7zIT4",
    "outputId": "ad675fb0-1348-499e-e297-692271b8f545"
   },
   "outputs": [
    {
     "data": {
      "image/png": "[encoded data removed]",
      "text/plain": [
       "<Figure size 1368x1080 with 2 Axes>"
      ]
     },
     "metadata": {
      "tags": []
     },
     "output_type": "display_data"
    }
   ],
   "source": [
    "f = plt.figure(figsize=(19, 15))\n",
    "plt.matshow(xtrain_fe.corr(), fignum=f.number)\n",
    "plt.xticks(range(xtrain_fe.shape[1]), xtrain_fe.columns, fontsize=14, rotation=45)\n",
    "plt.yticks(range(xtrain_fe.shape[1]), xtrain_fe.columns, fontsize=14)\n",
    "cb = plt.colorbar()\n",
    "cb.ax.tick_params(labelsize=14)\n",
    "plt.title('Correlation Matrix xtrain fe', fontsize=16);"
   ]
  },
  {
   "cell_type": "code",
   "execution_count": 0,
   "metadata": {
    "colab": {},
    "colab_type": "code",
    "id": "Lv6qwYzk0g11"
   },
   "outputs": [],
   "source": [
    "xtrain_fe = xtrain_fe.drop(columns =['y'])"
   ]
  },
  {
   "cell_type": "code",
   "execution_count": 0,
   "metadata": {
    "colab": {
     "base_uri": "https://localhost:8080/",
     "height": 51
    },
    "colab_type": "code",
    "executionInfo": {
     "elapsed": 968,
     "status": "ok",
     "timestamp": 1582713535689,
     "user": {
      "displayName": "Fayyaz ALI",
      "photoUrl": "",
      "userId": "03919327045185491199"
     },
     "user_tz": -60
    },
    "id": "hCVF4lpq1KSm",
    "outputId": "1f7bad35-c55b-49cd-8eb5-efd97fddbe35"
   },
   "outputs": [
    {
     "name": "stdout",
     "output_type": "stream",
     "text": [
      "nombre de positifs: 673052\n",
      "nombre de négatifs: 9127661\n"
     ]
    }
   ],
   "source": [
    "npos = ytrain[ytrain['y'] == 1].shape[0]\n",
    "nneg = ytrain[ytrain['y'] == 0].shape[0]\n",
    "print('nombre de positifs:', npos)\n",
    "print('nombre de négatifs:', nneg)"
   ]
  },
  {
   "cell_type": "code",
   "execution_count": 0,
   "metadata": {
    "colab": {},
    "colab_type": "code",
    "id": "J3c8u5Gr2ivc"
   },
   "outputs": [],
   "source": [
    "chosen_idx = np.random.choice(nneg, replace = False, size = npos)"
   ]
  },
  {
   "cell_type": "code",
   "execution_count": 0,
   "metadata": {
    "colab": {},
    "colab_type": "code",
    "id": "6pQ-6GLj2meQ"
   },
   "outputs": [],
   "source": [
    "x_tir_neg = xtrain_fe[ytrain['y'] == 0].reset_index(drop=True).loc[chosen_idx,:]\n",
    "y_tir_neg = ytrain[ytrain['y'] == 0].reset_index(drop=True).loc[chosen_idx,:]\n",
    "x_pos = xtrain_fe[ytrain['y'] == 1].reset_index(drop=True)\n",
    "y_pos = ytrain[ytrain['y'] == 1].reset_index(drop=True)"
   ]
  },
  {
   "cell_type": "code",
   "execution_count": 0,
   "metadata": {
    "colab": {},
    "colab_type": "code",
    "id": "SqDwQLP43KSI"
   },
   "outputs": [],
   "source": [
    "x_f = pd.concat([x_tir_neg,x_pos]).reset_index(drop=True)\n",
    "y_f = pd.concat([y_tir_neg,y_pos]).reset_index(drop=True)"
   ]
  },
  {
   "cell_type": "code",
   "execution_count": 0,
   "metadata": {
    "colab": {},
    "colab_type": "code",
    "id": "GHTjE-lj3Ohq"
   },
   "outputs": [],
   "source": [
    "reorder_idx = np.random.choice(y_f.shape[0], replace = False, size = y_f.shape[0])\n",
    "x_f = x_f.loc[reorder_idx,:]\n",
    "y_f = y_f.loc[reorder_idx,:]"
   ]
  },
  {
   "cell_type": "code",
   "execution_count": 0,
   "metadata": {
    "colab": {},
    "colab_type": "code",
    "id": "PqGNI4pHBDVs"
   },
   "outputs": [],
   "source": [
    "xtest_fe = xtest.copy()"
   ]
  },
  {
   "cell_type": "code",
   "execution_count": 0,
   "metadata": {
    "colab": {},
    "colab_type": "code",
    "id": "c0RPufvWBS2q"
   },
   "outputs": [],
   "source": [
    "xtest_fe['dq2'] = abs(xtest_fe['qs2']-xtest_fe['qr2'])\n",
    "xtest_fe['dq3'] = abs(xtest_fe['qs3']-xtest_fe['qr3'])\n",
    "xtest_fe['dq4'] = abs(xtest_fe['qs4']-xtest_fe['qr4'])\n",
    "xtest_fe['dq5'] = abs(xtest_fe['qs5']-xtest_fe['qr5'])\n",
    "xtest_fe['dq6'] = abs(xtest_fe['qs6']-xtest_fe['qr6'])\n",
    "xtest_fe['dq7'] = abs(xtest_fe['qs7']-xtest_fe['qr7'])\n",
    "xtest_fe['dq8'] = abs(xtest_fe['qs8']-xtest_fe['qr8'])\n",
    "xtest_fe['dq9'] = abs(xtest_fe['qs9']-xtest_fe['qr9'])\n",
    "xtest_fe['dq10'] = abs(xtest_fe['qs10']-xtest_fe['qr10'])\n",
    "xtest_fe['dq11'] = abs(xtest_fe['qs11']-xtest_fe['qr11'])\n",
    "xtest_fe['dq12'] = abs(xtest_fe['qs12']-xtest_fe['qr12'])\n",
    "xtest_fe['dq13'] = abs(xtest_fe['qs13']-xtest_fe['qr13'])"
   ]
  },
  {
   "cell_type": "code",
   "execution_count": 0,
   "metadata": {
    "colab": {},
    "colab_type": "code",
    "id": "q8KGND6JEySa"
   },
   "outputs": [],
   "source": [
    "xtest_fe = xtest_fe.drop(columns =['qs2','qr2','qs3','qr3','qs4','qr4','qs5','qr5','qs6','qr6','qs7','qr7','qs8','qr8','qs9','qr9','qs10','qr10','qs11','qr11','qs12','qr12','qs13','qr13'])"
   ]
  },
  {
   "cell_type": "code",
   "execution_count": 0,
   "metadata": {
    "colab": {},
    "colab_type": "code",
    "id": "FmYLbH9sE7ns"
   },
   "outputs": [],
   "source": [
    "#xtest_fe = xtest_fe.drop(columns =['qs1','qr1'])"
   ]
  },
  {
   "cell_type": "code",
   "execution_count": 0,
   "metadata": {
    "colab": {},
    "colab_type": "code",
    "id": "NMsZ_Zi_FCYM"
   },
   "outputs": [],
   "source": [
    "#xtest_fe = xtest_fe.drop(columns =['s4'])"
   ]
  },
  {
   "cell_type": "code",
   "execution_count": 0,
   "metadata": {
    "colab": {
     "base_uri": "https://localhost:8080/",
     "height": 85
    },
    "colab_type": "code",
    "executionInfo": {
     "elapsed": 1263,
     "status": "ok",
     "timestamp": 1582713574290,
     "user": {
      "displayName": "Fayyaz ALI",
      "photoUrl": "",
      "userId": "03919327045185491199"
     },
     "user_tz": -60
    },
    "id": "j2tYCZMaDCR4",
    "outputId": "24daee55-8046-491f-c3a6-fe4c57599393"
   },
   "outputs": [
    {
     "data": {
      "text/plain": [
       "Index(['qs1', 'qr1', 's1', 's2', 's3', 's4', 's5', 's6', 's7', 's8', 's9',\n",
       "       's10', 's11', 'dq2', 'dq3', 'dq4', 'dq5', 'dq6', 'dq7', 'dq8', 'dq9',\n",
       "       'dq10', 'dq11', 'dq12', 'dq13'],\n",
       "      dtype='object')"
      ]
     },
     "execution_count": 16,
     "metadata": {
      "tags": []
     },
     "output_type": "execute_result"
    }
   ],
   "source": [
    "xtrain_fe.columns"
   ]
  },
  {
   "cell_type": "code",
   "execution_count": 0,
   "metadata": {
    "colab": {},
    "colab_type": "code",
    "id": "UFcb70eO4i8M"
   },
   "outputs": [],
   "source": [
    "def custom_auc(ground_truth, predictions):\n",
    "    fpr, tpr, threshold = roc_curve(ground_truth, predictions)\n",
    "    return tpr[fpr<=0.0001][-1]"
   ]
  },
  {
   "cell_type": "code",
   "execution_count": 0,
   "metadata": {
    "colab": {},
    "colab_type": "code",
    "id": "sZSGItXs4kj4"
   },
   "outputs": [],
   "source": [
    "my_auc = make_scorer(custom_auc, greater_is_better=True)"
   ]
  },
  {
   "cell_type": "code",
   "execution_count": 0,
   "metadata": {
    "colab": {
     "base_uri": "https://localhost:8080/",
     "height": 361
    },
    "colab_type": "code",
    "executionInfo": {
     "elapsed": 20394,
     "status": "error",
     "timestamp": 1582897147592,
     "user": {
      "displayName": "Fayyaz ALI",
      "photoUrl": "",
      "userId": "03919327045185491199"
     },
     "user_tz": -60
    },
    "id": "dbjY7qie3WNw",
    "outputId": "2e285554-7306-4b74-f0bf-5beb7ac1bf75"
   },
   "outputs": [
    {
     "ename": "TerminatedWorkerError",
     "evalue": "ignored",
     "output_type": "error",
     "traceback": [
      "\u001b[0;31m---------------------------------------------------------------------------\u001b[0m",
      "\u001b[0;31mTerminatedWorkerError\u001b[0m                     Traceback (most recent call last)",
      "\u001b[0;32m<ipython-input-11-0c9c1ace90f3>\u001b[0m in \u001b[0;36m<module>\u001b[0;34m()\u001b[0m\n\u001b[1;32m     13\u001b[0m \u001b[0;34m\u001b[0m\u001b[0m\n\u001b[1;32m     14\u001b[0m \u001b[0mclf\u001b[0m \u001b[0;34m=\u001b[0m \u001b[0mGridSearchCV\u001b[0m\u001b[0;34m(\u001b[0m\u001b[0mestimator\u001b[0m\u001b[0;34m=\u001b[0m\u001b[0mclf_xgb\u001b[0m\u001b[0;34m,\u001b[0m \u001b[0mparam_grid\u001b[0m\u001b[0;34m=\u001b[0m \u001b[0mparameters\u001b[0m\u001b[0;34m,\u001b[0m\u001b[0mcv\u001b[0m\u001b[0;34m=\u001b[0m\u001b[0mKFold\u001b[0m\u001b[0;34m(\u001b[0m\u001b[0mn_splits\u001b[0m\u001b[0;34m=\u001b[0m\u001b[0;36m5\u001b[0m\u001b[0;34m)\u001b[0m\u001b[0;34m,\u001b[0m\u001b[0mscoring\u001b[0m \u001b[0;34m=\u001b[0m \u001b[0;34m'roc_auc'\u001b[0m\u001b[0;34m,\u001b[0m \u001b[0mn_jobs\u001b[0m \u001b[0;34m=\u001b[0m \u001b[0;34m-\u001b[0m\u001b[0;36m1\u001b[0m\u001b[0;34m)\u001b[0m\u001b[0;34m\u001b[0m\u001b[0;34m\u001b[0m\u001b[0m\n\u001b[0;32m---> 15\u001b[0;31m \u001b[0mclf\u001b[0m\u001b[0;34m.\u001b[0m\u001b[0mfit\u001b[0m\u001b[0;34m(\u001b[0m\u001b[0mxtrain_fe\u001b[0m\u001b[0;34m,\u001b[0m\u001b[0mytrain\u001b[0m\u001b[0;34m[\u001b[0m\u001b[0;34m'y'\u001b[0m\u001b[0;34m]\u001b[0m\u001b[0;34m)\u001b[0m\u001b[0;31m#values.ravel()\u001b[0m\u001b[0;34m\u001b[0m\u001b[0;34m\u001b[0m\u001b[0m\n\u001b[0m",
      "\u001b[0;32m/usr/local/lib/python3.6/dist-packages/sklearn/model_selection/_search.py\u001b[0m in \u001b[0;36mfit\u001b[0;34m(self, X, y, groups, **fit_params)\u001b[0m\n\u001b[1;32m    708\u001b[0m                 \u001b[0;32mreturn\u001b[0m \u001b[0mresults\u001b[0m\u001b[0;34m\u001b[0m\u001b[0;34m\u001b[0m\u001b[0m\n\u001b[1;32m    709\u001b[0m \u001b[0;34m\u001b[0m\u001b[0m\n\u001b[0;32m--> 710\u001b[0;31m             \u001b[0mself\u001b[0m\u001b[0;34m.\u001b[0m\u001b[0m_run_search\u001b[0m\u001b[0;34m(\u001b[0m\u001b[0mevaluate_candidates\u001b[0m\u001b[0;34m)\u001b[0m\u001b[0;34m\u001b[0m\u001b[0;34m\u001b[0m\u001b[0m\n\u001b[0m\u001b[1;32m    711\u001b[0m \u001b[0;34m\u001b[0m\u001b[0m\n\u001b[1;32m    712\u001b[0m         \u001b[0;31m# For multi-metric evaluation, store the best_index_, best_params_ and\u001b[0m\u001b[0;34m\u001b[0m\u001b[0;34m\u001b[0m\u001b[0;34m\u001b[0m\u001b[0m\n",
      "\u001b[0;32m/usr/local/lib/python3.6/dist-packages/sklearn/model_selection/_search.py\u001b[0m in \u001b[0;36m_run_search\u001b[0;34m(self, evaluate_candidates)\u001b[0m\n\u001b[1;32m   1149\u001b[0m     \u001b[0;32mdef\u001b[0m \u001b[0m_run_search\u001b[0m\u001b[0;34m(\u001b[0m\u001b[0mself\u001b[0m\u001b[0;34m,\u001b[0m \u001b[0mevaluate_candidates\u001b[0m\u001b[0;34m)\u001b[0m\u001b[0;34m:\u001b[0m\u001b[0;34m\u001b[0m\u001b[0;34m\u001b[0m\u001b[0m\n\u001b[1;32m   1150\u001b[0m         \u001b[0;34m\"\"\"Search all candidates in param_grid\"\"\"\u001b[0m\u001b[0;34m\u001b[0m\u001b[0;34m\u001b[0m\u001b[0m\n\u001b[0;32m-> 1151\u001b[0;31m         \u001b[0mevaluate_candidates\u001b[0m\u001b[0;34m(\u001b[0m\u001b[0mParameterGrid\u001b[0m\u001b[0;34m(\u001b[0m\u001b[0mself\u001b[0m\u001b[0;34m.\u001b[0m\u001b[0mparam_grid\u001b[0m\u001b[0;34m)\u001b[0m\u001b[0;34m)\u001b[0m\u001b[0;34m\u001b[0m\u001b[0;34m\u001b[0m\u001b[0m\n\u001b[0m\u001b[1;32m   1152\u001b[0m \u001b[0;34m\u001b[0m\u001b[0m\n\u001b[1;32m   1153\u001b[0m \u001b[0;34m\u001b[0m\u001b[0m\n",
      "\u001b[0;32m/usr/local/lib/python3.6/dist-packages/sklearn/model_selection/_search.py\u001b[0m in \u001b[0;36mevaluate_candidates\u001b[0;34m(candidate_params)\u001b[0m\n\u001b[1;32m    687\u001b[0m                                \u001b[0;32mfor\u001b[0m \u001b[0mparameters\u001b[0m\u001b[0;34m,\u001b[0m \u001b[0;34m(\u001b[0m\u001b[0mtrain\u001b[0m\u001b[0;34m,\u001b[0m \u001b[0mtest\u001b[0m\u001b[0;34m)\u001b[0m\u001b[0;34m\u001b[0m\u001b[0;34m\u001b[0m\u001b[0m\n\u001b[1;32m    688\u001b[0m                                in product(candidate_params,\n\u001b[0;32m--> 689\u001b[0;31m                                           cv.split(X, y, groups)))\n\u001b[0m\u001b[1;32m    690\u001b[0m \u001b[0;34m\u001b[0m\u001b[0m\n\u001b[1;32m    691\u001b[0m                 \u001b[0;32mif\u001b[0m \u001b[0mlen\u001b[0m\u001b[0;34m(\u001b[0m\u001b[0mout\u001b[0m\u001b[0;34m)\u001b[0m \u001b[0;34m<\u001b[0m \u001b[0;36m1\u001b[0m\u001b[0;34m:\u001b[0m\u001b[0;34m\u001b[0m\u001b[0;34m\u001b[0m\u001b[0m\n",
      "\u001b[0;32m/usr/local/lib/python3.6/dist-packages/joblib/parallel.py\u001b[0m in \u001b[0;36m__call__\u001b[0;34m(self, iterable)\u001b[0m\n\u001b[1;32m   1015\u001b[0m \u001b[0;34m\u001b[0m\u001b[0m\n\u001b[1;32m   1016\u001b[0m             \u001b[0;32mwith\u001b[0m \u001b[0mself\u001b[0m\u001b[0;34m.\u001b[0m\u001b[0m_backend\u001b[0m\u001b[0;34m.\u001b[0m\u001b[0mretrieval_context\u001b[0m\u001b[0;34m(\u001b[0m\u001b[0;34m)\u001b[0m\u001b[0;34m:\u001b[0m\u001b[0;34m\u001b[0m\u001b[0;34m\u001b[0m\u001b[0m\n\u001b[0;32m-> 1017\u001b[0;31m                 \u001b[0mself\u001b[0m\u001b[0;34m.\u001b[0m\u001b[0mretrieve\u001b[0m\u001b[0;34m(\u001b[0m\u001b[0;34m)\u001b[0m\u001b[0;34m\u001b[0m\u001b[0;34m\u001b[0m\u001b[0m\n\u001b[0m\u001b[1;32m   1018\u001b[0m             \u001b[0;31m# Make sure that we get a last message telling us we are done\u001b[0m\u001b[0;34m\u001b[0m\u001b[0;34m\u001b[0m\u001b[0;34m\u001b[0m\u001b[0m\n\u001b[1;32m   1019\u001b[0m             \u001b[0melapsed_time\u001b[0m \u001b[0;34m=\u001b[0m \u001b[0mtime\u001b[0m\u001b[0;34m.\u001b[0m\u001b[0mtime\u001b[0m\u001b[0;34m(\u001b[0m\u001b[0;34m)\u001b[0m \u001b[0;34m-\u001b[0m \u001b[0mself\u001b[0m\u001b[0;34m.\u001b[0m\u001b[0m_start_time\u001b[0m\u001b[0;34m\u001b[0m\u001b[0;34m\u001b[0m\u001b[0m\n",
      "\u001b[0;32m/usr/local/lib/python3.6/dist-packages/joblib/parallel.py\u001b[0m in \u001b[0;36mretrieve\u001b[0;34m(self)\u001b[0m\n\u001b[1;32m    907\u001b[0m             \u001b[0;32mtry\u001b[0m\u001b[0;34m:\u001b[0m\u001b[0;34m\u001b[0m\u001b[0;34m\u001b[0m\u001b[0m\n\u001b[1;32m    908\u001b[0m                 \u001b[0;32mif\u001b[0m \u001b[0mgetattr\u001b[0m\u001b[0;34m(\u001b[0m\u001b[0mself\u001b[0m\u001b[0;34m.\u001b[0m\u001b[0m_backend\u001b[0m\u001b[0;34m,\u001b[0m \u001b[0;34m'supports_timeout'\u001b[0m\u001b[0;34m,\u001b[0m \u001b[0;32mFalse\u001b[0m\u001b[0;34m)\u001b[0m\u001b[0;34m:\u001b[0m\u001b[0;34m\u001b[0m\u001b[0;34m\u001b[0m\u001b[0m\n\u001b[0;32m--> 909\u001b[0;31m                     \u001b[0mself\u001b[0m\u001b[0;34m.\u001b[0m\u001b[0m_output\u001b[0m\u001b[0;34m.\u001b[0m\u001b[0mextend\u001b[0m\u001b[0;34m(\u001b[0m\u001b[0mjob\u001b[0m\u001b[0;34m.\u001b[0m\u001b[0mget\u001b[0m\u001b[0;34m(\u001b[0m\u001b[0mtimeout\u001b[0m\u001b[0;34m=\u001b[0m\u001b[0mself\u001b[0m\u001b[0;34m.\u001b[0m\u001b[0mtimeout\u001b[0m\u001b[0;34m)\u001b[0m\u001b[0;34m)\u001b[0m\u001b[0;34m\u001b[0m\u001b[0;34m\u001b[0m\u001b[0m\n\u001b[0m\u001b[1;32m    910\u001b[0m                 \u001b[0;32melse\u001b[0m\u001b[0;34m:\u001b[0m\u001b[0;34m\u001b[0m\u001b[0;34m\u001b[0m\u001b[0m\n\u001b[1;32m    911\u001b[0m                     \u001b[0mself\u001b[0m\u001b[0;34m.\u001b[0m\u001b[0m_output\u001b[0m\u001b[0;34m.\u001b[0m\u001b[0mextend\u001b[0m\u001b[0;34m(\u001b[0m\u001b[0mjob\u001b[0m\u001b[0;34m.\u001b[0m\u001b[0mget\u001b[0m\u001b[0;34m(\u001b[0m\u001b[0;34m)\u001b[0m\u001b[0;34m)\u001b[0m\u001b[0;34m\u001b[0m\u001b[0;34m\u001b[0m\u001b[0m\n",
      "\u001b[0;32m/usr/local/lib/python3.6/dist-packages/joblib/_parallel_backends.py\u001b[0m in \u001b[0;36mwrap_future_result\u001b[0;34m(future, timeout)\u001b[0m\n\u001b[1;32m    560\u001b[0m         AsyncResults.get from multiprocessing.\"\"\"\n\u001b[1;32m    561\u001b[0m         \u001b[0;32mtry\u001b[0m\u001b[0;34m:\u001b[0m\u001b[0;34m\u001b[0m\u001b[0;34m\u001b[0m\u001b[0m\n\u001b[0;32m--> 562\u001b[0;31m             \u001b[0;32mreturn\u001b[0m \u001b[0mfuture\u001b[0m\u001b[0;34m.\u001b[0m\u001b[0mresult\u001b[0m\u001b[0;34m(\u001b[0m\u001b[0mtimeout\u001b[0m\u001b[0;34m=\u001b[0m\u001b[0mtimeout\u001b[0m\u001b[0;34m)\u001b[0m\u001b[0;34m\u001b[0m\u001b[0;34m\u001b[0m\u001b[0m\n\u001b[0m\u001b[1;32m    563\u001b[0m         \u001b[0;32mexcept\u001b[0m \u001b[0mLokyTimeoutError\u001b[0m\u001b[0;34m:\u001b[0m\u001b[0;34m\u001b[0m\u001b[0;34m\u001b[0m\u001b[0m\n\u001b[1;32m    564\u001b[0m             \u001b[0;32mraise\u001b[0m \u001b[0mTimeoutError\u001b[0m\u001b[0;34m(\u001b[0m\u001b[0;34m)\u001b[0m\u001b[0;34m\u001b[0m\u001b[0;34m\u001b[0m\u001b[0m\n",
      "\u001b[0;32m/usr/lib/python3.6/concurrent/futures/_base.py\u001b[0m in \u001b[0;36mresult\u001b[0;34m(self, timeout)\u001b[0m\n\u001b[1;32m    430\u001b[0m                 \u001b[0;32mraise\u001b[0m \u001b[0mCancelledError\u001b[0m\u001b[0;34m(\u001b[0m\u001b[0;34m)\u001b[0m\u001b[0;34m\u001b[0m\u001b[0;34m\u001b[0m\u001b[0m\n\u001b[1;32m    431\u001b[0m             \u001b[0;32melif\u001b[0m \u001b[0mself\u001b[0m\u001b[0;34m.\u001b[0m\u001b[0m_state\u001b[0m \u001b[0;34m==\u001b[0m \u001b[0mFINISHED\u001b[0m\u001b[0;34m:\u001b[0m\u001b[0;34m\u001b[0m\u001b[0;34m\u001b[0m\u001b[0m\n\u001b[0;32m--> 432\u001b[0;31m                 \u001b[0;32mreturn\u001b[0m \u001b[0mself\u001b[0m\u001b[0;34m.\u001b[0m\u001b[0m__get_result\u001b[0m\u001b[0;34m(\u001b[0m\u001b[0;34m)\u001b[0m\u001b[0;34m\u001b[0m\u001b[0;34m\u001b[0m\u001b[0m\n\u001b[0m\u001b[1;32m    433\u001b[0m             \u001b[0;32melse\u001b[0m\u001b[0;34m:\u001b[0m\u001b[0;34m\u001b[0m\u001b[0;34m\u001b[0m\u001b[0m\n\u001b[1;32m    434\u001b[0m                 \u001b[0;32mraise\u001b[0m \u001b[0mTimeoutError\u001b[0m\u001b[0;34m(\u001b[0m\u001b[0;34m)\u001b[0m\u001b[0;34m\u001b[0m\u001b[0;34m\u001b[0m\u001b[0m\n",
      "\u001b[0;32m/usr/lib/python3.6/concurrent/futures/_base.py\u001b[0m in \u001b[0;36m__get_result\u001b[0;34m(self)\u001b[0m\n\u001b[1;32m    382\u001b[0m     \u001b[0;32mdef\u001b[0m \u001b[0m__get_result\u001b[0m\u001b[0;34m(\u001b[0m\u001b[0mself\u001b[0m\u001b[0;34m)\u001b[0m\u001b[0;34m:\u001b[0m\u001b[0;34m\u001b[0m\u001b[0;34m\u001b[0m\u001b[0m\n\u001b[1;32m    383\u001b[0m         \u001b[0;32mif\u001b[0m \u001b[0mself\u001b[0m\u001b[0;34m.\u001b[0m\u001b[0m_exception\u001b[0m\u001b[0;34m:\u001b[0m\u001b[0;34m\u001b[0m\u001b[0;34m\u001b[0m\u001b[0m\n\u001b[0;32m--> 384\u001b[0;31m             \u001b[0;32mraise\u001b[0m \u001b[0mself\u001b[0m\u001b[0;34m.\u001b[0m\u001b[0m_exception\u001b[0m\u001b[0;34m\u001b[0m\u001b[0;34m\u001b[0m\u001b[0m\n\u001b[0m\u001b[1;32m    385\u001b[0m         \u001b[0;32melse\u001b[0m\u001b[0;34m:\u001b[0m\u001b[0;34m\u001b[0m\u001b[0;34m\u001b[0m\u001b[0m\n\u001b[1;32m    386\u001b[0m             \u001b[0;32mreturn\u001b[0m \u001b[0mself\u001b[0m\u001b[0;34m.\u001b[0m\u001b[0m_result\u001b[0m\u001b[0;34m\u001b[0m\u001b[0;34m\u001b[0m\u001b[0m\n",
      "\u001b[0;31mTerminatedWorkerError\u001b[0m: A worker process managed by the executor was unexpectedly terminated. This could be caused by a segmentation fault while calling the function or by an excessive memory usage causing the Operating System to kill the worker. The exit codes of the workers are {SIGKILL(-9)}"
     ]
    }
   ],
   "source": [
    "clf_xgb = XGBClassifier(objective = 'binary:logistic',tree_method='gpu_hist')#gpu_id=0\n",
    "#param_dist = {'n_estimators': stats.randint(150, 500),\n",
    "#              'learning_rate': stats.uniform(0.01, 0.07),\n",
    "#              'subsample': stats.uniform(0.3, 0.7),\n",
    "#              'max_depth': [3, 4, 5, 6, 7, 8, 9],\n",
    "#              'colsample_bytree': stats.uniform(0.5, 0.45),\n",
    "#              'min_child_weight': [1, 2, 3]\n",
    "#             }\n",
    "\n",
    "              \n",
    "parameters = {'max_depth':[5,10,30,100] ,'learning_rate':[0.01, 0.05],'min_child_weight': [1, 3, 5], 'n_estimators':[150],'gamma': [0, 1, 10]}\n",
    "#parameters = {'max_depth':[5] ,'learning_rate':[0.01],'min_child_weight': [1], 'n_estimators':[150]}\n",
    "\n",
    "clf = GridSearchCV(estimator=clf_xgb, param_grid= parameters,cv=KFold(n_splits=5),scoring = 'roc_auc', n_jobs = -1)\n",
    "clf.fit(xtrain_fe,ytrain['y'])#values.ravel()"
   ]
  },
  {
   "cell_type": "code",
   "execution_count": 0,
   "metadata": {
    "colab": {
     "base_uri": "https://localhost:8080/"
    },
    "colab_type": "code",
    "executionInfo": {
     "elapsed": 1570,
     "status": "error",
     "timestamp": 1582744134977,
     "user": {
      "displayName": "Fayyaz ALI",
      "photoUrl": "",
      "userId": "03919327045185491199"
     },
     "user_tz": -60
    },
    "id": "JYOIlSQr54wX",
    "outputId": "8854a156-ec40-4356-a78b-d9a2e6f811cd"
   },
   "outputs": [
    {
     "ename": "AttributeError",
     "evalue": "ignored",
     "output_type": "error",
     "traceback": [
      "\u001b[0;31m---------------------------------------------------------------------------\u001b[0m",
      "\u001b[0;31mAttributeError\u001b[0m                            Traceback (most recent call last)",
      "\u001b[0;32m<ipython-input-18-cb57d0676060>\u001b[0m in \u001b[0;36m<module>\u001b[0;34m()\u001b[0m\n\u001b[0;32m----> 1\u001b[0;31m \u001b[0mfpr\u001b[0m\u001b[0;34m,\u001b[0m \u001b[0mtpr\u001b[0m\u001b[0;34m,\u001b[0m \u001b[0mthreshold\u001b[0m \u001b[0;34m=\u001b[0m \u001b[0mroc_curve\u001b[0m\u001b[0;34m(\u001b[0m\u001b[0mytrain\u001b[0m\u001b[0;34m[\u001b[0m\u001b[0;34m'y'\u001b[0m\u001b[0;34m]\u001b[0m\u001b[0;34m,\u001b[0m  \u001b[0mclf\u001b[0m\u001b[0;34m.\u001b[0m\u001b[0mpredict_proba\u001b[0m\u001b[0;34m(\u001b[0m\u001b[0mxtrain_fe\u001b[0m\u001b[0;34m)\u001b[0m\u001b[0;34m[\u001b[0m\u001b[0;34m:\u001b[0m\u001b[0;34m,\u001b[0m\u001b[0mclf\u001b[0m\u001b[0;34m.\u001b[0m\u001b[0mclasses_\u001b[0m \u001b[0;34m==\u001b[0m \u001b[0;36m1\u001b[0m\u001b[0;34m]\u001b[0m\u001b[0;34m[\u001b[0m\u001b[0;34m:\u001b[0m\u001b[0;34m,\u001b[0m\u001b[0;36m0\u001b[0m\u001b[0;34m]\u001b[0m\u001b[0;34m)\u001b[0m\u001b[0;34m\u001b[0m\u001b[0;34m\u001b[0m\u001b[0m\n\u001b[0m\u001b[1;32m      2\u001b[0m \u001b[0mprint\u001b[0m\u001b[0;34m(\u001b[0m\u001b[0mtpr\u001b[0m\u001b[0;34m[\u001b[0m\u001b[0mfpr\u001b[0m\u001b[0;34m<=\u001b[0m\u001b[0;36m0.0001\u001b[0m\u001b[0;34m]\u001b[0m\u001b[0;34m[\u001b[0m\u001b[0;34m-\u001b[0m\u001b[0;36m1\u001b[0m\u001b[0;34m]\u001b[0m\u001b[0;34m)\u001b[0m\u001b[0;34m\u001b[0m\u001b[0;34m\u001b[0m\u001b[0m\n",
      "\u001b[0;32m/usr/local/lib/python3.6/dist-packages/sklearn/utils/metaestimators.py\u001b[0m in \u001b[0;36m<lambda>\u001b[0;34m(*args, **kwargs)\u001b[0m\n\u001b[1;32m    114\u001b[0m \u001b[0;34m\u001b[0m\u001b[0m\n\u001b[1;32m    115\u001b[0m         \u001b[0;31m# lambda, but not partial, allows help() to work with update_wrapper\u001b[0m\u001b[0;34m\u001b[0m\u001b[0;34m\u001b[0m\u001b[0;34m\u001b[0m\u001b[0m\n\u001b[0;32m--> 116\u001b[0;31m         \u001b[0mout\u001b[0m \u001b[0;34m=\u001b[0m \u001b[0;32mlambda\u001b[0m \u001b[0;34m*\u001b[0m\u001b[0margs\u001b[0m\u001b[0;34m,\u001b[0m \u001b[0;34m**\u001b[0m\u001b[0mkwargs\u001b[0m\u001b[0;34m:\u001b[0m \u001b[0mself\u001b[0m\u001b[0;34m.\u001b[0m\u001b[0mfn\u001b[0m\u001b[0;34m(\u001b[0m\u001b[0mobj\u001b[0m\u001b[0;34m,\u001b[0m \u001b[0;34m*\u001b[0m\u001b[0margs\u001b[0m\u001b[0;34m,\u001b[0m \u001b[0;34m**\u001b[0m\u001b[0mkwargs\u001b[0m\u001b[0;34m)\u001b[0m\u001b[0;34m\u001b[0m\u001b[0;34m\u001b[0m\u001b[0m\n\u001b[0m\u001b[1;32m    117\u001b[0m         \u001b[0;31m# update the docstring of the returned function\u001b[0m\u001b[0;34m\u001b[0m\u001b[0;34m\u001b[0m\u001b[0;34m\u001b[0m\u001b[0m\n\u001b[1;32m    118\u001b[0m         \u001b[0mupdate_wrapper\u001b[0m\u001b[0;34m(\u001b[0m\u001b[0mout\u001b[0m\u001b[0;34m,\u001b[0m \u001b[0mself\u001b[0m\u001b[0;34m.\u001b[0m\u001b[0mfn\u001b[0m\u001b[0;34m)\u001b[0m\u001b[0;34m\u001b[0m\u001b[0;34m\u001b[0m\u001b[0m\n",
      "\u001b[0;32m/usr/local/lib/python3.6/dist-packages/sklearn/model_selection/_search.py\u001b[0m in \u001b[0;36mpredict_proba\u001b[0;34m(self, X)\u001b[0m\n\u001b[1;32m    492\u001b[0m         \"\"\"\n\u001b[1;32m    493\u001b[0m         \u001b[0mself\u001b[0m\u001b[0;34m.\u001b[0m\u001b[0m_check_is_fitted\u001b[0m\u001b[0;34m(\u001b[0m\u001b[0;34m'predict_proba'\u001b[0m\u001b[0;34m)\u001b[0m\u001b[0;34m\u001b[0m\u001b[0;34m\u001b[0m\u001b[0m\n\u001b[0;32m--> 494\u001b[0;31m         \u001b[0;32mreturn\u001b[0m \u001b[0mself\u001b[0m\u001b[0;34m.\u001b[0m\u001b[0mbest_estimator_\u001b[0m\u001b[0;34m.\u001b[0m\u001b[0mpredict_proba\u001b[0m\u001b[0;34m(\u001b[0m\u001b[0mX\u001b[0m\u001b[0;34m)\u001b[0m\u001b[0;34m\u001b[0m\u001b[0;34m\u001b[0m\u001b[0m\n\u001b[0m\u001b[1;32m    495\u001b[0m \u001b[0;34m\u001b[0m\u001b[0m\n\u001b[1;32m    496\u001b[0m     \u001b[0;34m@\u001b[0m\u001b[0mif_delegate_has_method\u001b[0m\u001b[0;34m(\u001b[0m\u001b[0mdelegate\u001b[0m\u001b[0;34m=\u001b[0m\u001b[0;34m(\u001b[0m\u001b[0;34m'best_estimator_'\u001b[0m\u001b[0;34m,\u001b[0m \u001b[0;34m'estimator'\u001b[0m\u001b[0;34m)\u001b[0m\u001b[0;34m)\u001b[0m\u001b[0;34m\u001b[0m\u001b[0;34m\u001b[0m\u001b[0m\n",
      "\u001b[0;31mAttributeError\u001b[0m: 'GridSearchCV' object has no attribute 'best_estimator_'"
     ]
    }
   ],
   "source": [
    "fpr, tpr, threshold = roc_curve(ytrain['y'],  clf.predict_proba(xtrain_fe)[:,clf.classes_ == 1][:,0])\n",
    "print(tpr[fpr<=0.0001][-1])"
   ]
  },
  {
   "cell_type": "code",
   "execution_count": 0,
   "metadata": {
    "colab": {},
    "colab_type": "code",
    "id": "tDn53csRFNko"
   },
   "outputs": [],
   "source": [
    "ytest = clf.predict_proba(xtest_fe)[:,clf.classes_ == 1][:,0]\n",
    "print(ytest.shape)\n",
    "np.savetxt('/content/drive/My Drive/Colab Notebooks/ytest_challenge_Fayyaz_xgbfe2.csv', ytest, fmt = '%1.15f', delimiter=',')"
   ]
  },
  {
   "cell_type": "markdown",
   "metadata": {
    "colab_type": "text",
    "id": "5LWE7vmr9bUj"
   },
   "source": [
    "**lightGBM**"
   ]
  },
  {
   "cell_type": "code",
   "execution_count": 0,
   "metadata": {
    "colab": {},
    "colab_type": "code",
    "id": "RpGxnmgf97dY"
   },
   "outputs": [],
   "source": [
    "#clf = lgb.LGBMClassifier(learning_rate = 0.008, max_depth = 100, n_estimators=10000,n_jobs=-1)\n",
    "mdl = lgb.LGBMClassifier(n_jobs=-1)"
   ]
  },
  {
   "cell_type": "code",
   "execution_count": 0,
   "metadata": {
    "colab": {},
    "colab_type": "code",
    "id": "tQ3QBd2IyriE"
   },
   "outputs": [],
   "source": [
    "gridParams = {\n",
    "    'learning_rate': [0.005, 0.01],\n",
    "    'n_estimators': [2000],\n",
    "    'num_leaves': [10,25,50,100],\n",
    "    'boosting_type' : ['gbdt'],\n",
    "    'objective' : ['binary'],\n",
    "    'random_state' : [501], # Updated from 'seed'\n",
    "    'colsample_bytree' : [0.65, 1],\n",
    "    'subsample' : [0.7,0.9,1],\n",
    "    'reg_alpha' : [1,1.2],\n",
    "    'reg_lambda' : [1,1.2,1.4],\n",
    "    }"
   ]
  },
  {
   "cell_type": "code",
   "execution_count": 0,
   "metadata": {
    "colab": {},
    "colab_type": "code",
    "id": "NVavURBbzGCP"
   },
   "outputs": [],
   "source": [
    "clf = GridSearchCV(mdl, gridParams,\n",
    "                    verbose=0,\n",
    "                    cv=5,n_jobs = -1)"
   ]
  },
  {
   "cell_type": "code",
   "execution_count": 0,
   "metadata": {
    "colab": {},
    "colab_type": "code",
    "id": "r8n0nQW9_hoN"
   },
   "outputs": [],
   "source": [
    "scores = ['s1','s2','s3','s4','s5','s6','s7','s8','s9','s10','s11']\n",
    "clf.fit(xtrain_fe.to_numpy(), ytrain.values.ravel())"
   ]
  },
  {
   "cell_type": "code",
   "execution_count": 0,
   "metadata": {
    "colab": {},
    "colab_type": "code",
    "id": "gttLc1yOCjsI"
   },
   "outputs": [],
   "source": [
    "ytest = clf.predict_proba(xtest_fe.to_numpy())[:,clf.classes_ == 1][:,0]"
   ]
  },
  {
   "cell_type": "code",
   "execution_count": 0,
   "metadata": {
    "colab": {},
    "colab_type": "code",
    "id": "GAfX8WjZICf1"
   },
   "outputs": [],
   "source": [
    "np.savetxt('/content/drive/My Drive/Colab Notebooks/ytest_challenge_Fayyaz_lgbm.csv', ytest, fmt = '%1.15f', delimiter=',')"
   ]
  },
  {
   "cell_type": "code",
   "execution_count": 0,
   "metadata": {
    "colab": {},
    "colab_type": "code",
    "id": "yLY-v1gFKZk6"
   },
   "outputs": [],
   "source": [
    "fpr, tpr, threshold = roc_curve(ytrain['y'],  clf.predict_proba(xtrain_fe)[:,clf.classes_ == 1][:,0])\n",
    "print(tpr[fpr<=0.0001][-1])"
   ]
  },
  {
   "cell_type": "markdown",
   "metadata": {
    "colab_type": "text",
    "id": "cFqfbWDhg9v9"
   },
   "source": [
    "**SVM + LGBM**"
   ]
  },
  {
   "cell_type": "code",
   "execution_count": 0,
   "metadata": {
    "colab": {},
    "colab_type": "code",
    "id": "ZT-wBGE7hGKz"
   },
   "outputs": [],
   "source": [
    "from sklearn.kernel_approximation import RBFSampler"
   ]
  },
  {
   "cell_type": "code",
   "execution_count": 0,
   "metadata": {
    "colab": {},
    "colab_type": "code",
    "id": "GWr0D6Kjhpbg"
   },
   "outputs": [],
   "source": [
    "rbf_feature = RBFSampler(gamma=10, random_state=1)\n",
    "X_features = rbf_feature.fit_transform(xtrain[scores])"
   ]
  },
  {
   "cell_type": "code",
   "execution_count": 0,
   "metadata": {
    "colab": {},
    "colab_type": "code",
    "id": "S6h7jBYHhvAu"
   },
   "outputs": [],
   "source": [
    "clf_svm = svm.SVC(kernel='rbf',probability=True) \n",
    "clf_svm.fit(X_features,ytrain.values.ravel())"
   ]
  },
  {
   "cell_type": "code",
   "execution_count": 0,
   "metadata": {
    "colab": {},
    "colab_type": "code",
    "id": "gFkvOk4Jh2H6"
   },
   "outputs": [],
   "source": [
    "clf_svm.predict_proba(xtrain[scores])[:,clf.classes_ == 1][:,0])"
   ]
  },
  {
   "cell_type": "markdown",
   "metadata": {
    "colab_type": "text",
    "id": "ou1XHoRSPS_j"
   },
   "source": []
  },
  {
   "cell_type": "code",
   "execution_count": 0,
   "metadata": {
    "colab": {},
    "colab_type": "code",
    "id": "RNh5TCQAP0Bi"
   },
   "outputs": [],
   "source": [
    "scores = ['s1','s2','s3','s4','s5','s6','s7','s8','s9','s10','s11']"
   ]
  },
  {
   "cell_type": "code",
   "execution_count": 0,
   "metadata": {
    "colab": {
     "base_uri": "https://localhost:8080/",
     "height": 439
    },
    "colab_type": "code",
    "executionInfo": {
     "elapsed": 875,
     "status": "ok",
     "timestamp": 1582928922871,
     "user": {
      "displayName": "Fayyaz ALI",
      "photoUrl": "",
      "userId": "03919327045185491199"
     },
     "user_tz": -60
    },
    "id": "GbtXK1-_mxbq",
    "outputId": "cce2a4bf-59bf-4fee-8558-66e783c99b40"
   },
   "outputs": [
    {
     "data": {
      "text/html": [
       "<div>\n",
       "<style scoped>\n",
       "    .dataframe tbody tr th:only-of-type {\n",
       "        vertical-align: middle;\n",
       "    }\n",
       "\n",
       "    .dataframe tbody tr th {\n",
       "        vertical-align: top;\n",
       "    }\n",
       "\n",
       "    .dataframe thead th {\n",
       "        text-align: right;\n",
       "    }\n",
       "</style>\n",
       "<table border=\"1\" class=\"dataframe\">\n",
       "  <thead>\n",
       "    <tr style=\"text-align: right;\">\n",
       "      <th></th>\n",
       "      <th>qs1</th>\n",
       "      <th>qr1</th>\n",
       "      <th>s1</th>\n",
       "      <th>s2</th>\n",
       "      <th>s3</th>\n",
       "      <th>s4</th>\n",
       "      <th>s5</th>\n",
       "      <th>s6</th>\n",
       "      <th>s7</th>\n",
       "      <th>s8</th>\n",
       "      <th>s9</th>\n",
       "      <th>s10</th>\n",
       "      <th>s11</th>\n",
       "      <th>dq2</th>\n",
       "      <th>dq3</th>\n",
       "      <th>dq4</th>\n",
       "      <th>dq5</th>\n",
       "      <th>dq6</th>\n",
       "      <th>dq7</th>\n",
       "      <th>dq8</th>\n",
       "      <th>dq9</th>\n",
       "      <th>dq10</th>\n",
       "      <th>dq11</th>\n",
       "      <th>dq12</th>\n",
       "      <th>dq13</th>\n",
       "    </tr>\n",
       "  </thead>\n",
       "  <tbody>\n",
       "    <tr>\n",
       "      <th>0</th>\n",
       "      <td>1.0</td>\n",
       "      <td>1.0</td>\n",
       "      <td>2405.94</td>\n",
       "      <td>1981.09</td>\n",
       "      <td>2677.84</td>\n",
       "      <td>2470.44</td>\n",
       "      <td>1579.39</td>\n",
       "      <td>2185.79</td>\n",
       "      <td>2118.77</td>\n",
       "      <td>2580.99</td>\n",
       "      <td>2498.04</td>\n",
       "      <td>3180.58</td>\n",
       "      <td>2718.29</td>\n",
       "      <td>0.0</td>\n",
       "      <td>0.0</td>\n",
       "      <td>3.20</td>\n",
       "      <td>7.26</td>\n",
       "      <td>2.70</td>\n",
       "      <td>1.96</td>\n",
       "      <td>1.74</td>\n",
       "      <td>0.14</td>\n",
       "      <td>74.96</td>\n",
       "      <td>6.84</td>\n",
       "      <td>0.0</td>\n",
       "      <td>0.00</td>\n",
       "    </tr>\n",
       "    <tr>\n",
       "      <th>1</th>\n",
       "      <td>1.0</td>\n",
       "      <td>1.0</td>\n",
       "      <td>3241.37</td>\n",
       "      <td>2015.24</td>\n",
       "      <td>3987.19</td>\n",
       "      <td>3343.53</td>\n",
       "      <td>2894.69</td>\n",
       "      <td>2947.34</td>\n",
       "      <td>2689.42</td>\n",
       "      <td>3763.51</td>\n",
       "      <td>2544.22</td>\n",
       "      <td>3515.58</td>\n",
       "      <td>3247.49</td>\n",
       "      <td>0.0</td>\n",
       "      <td>0.0</td>\n",
       "      <td>0.07</td>\n",
       "      <td>14.47</td>\n",
       "      <td>3.00</td>\n",
       "      <td>0.38</td>\n",
       "      <td>0.88</td>\n",
       "      <td>2.42</td>\n",
       "      <td>83.22</td>\n",
       "      <td>1.65</td>\n",
       "      <td>0.0</td>\n",
       "      <td>0.01</td>\n",
       "    </tr>\n",
       "    <tr>\n",
       "      <th>2</th>\n",
       "      <td>1.0</td>\n",
       "      <td>1.0</td>\n",
       "      <td>2199.22</td>\n",
       "      <td>2549.59</td>\n",
       "      <td>2164.41</td>\n",
       "      <td>2100.69</td>\n",
       "      <td>1294.35</td>\n",
       "      <td>2136.04</td>\n",
       "      <td>1644.05</td>\n",
       "      <td>2308.05</td>\n",
       "      <td>1774.88</td>\n",
       "      <td>3005.79</td>\n",
       "      <td>2507.02</td>\n",
       "      <td>0.0</td>\n",
       "      <td>0.0</td>\n",
       "      <td>46.34</td>\n",
       "      <td>9.30</td>\n",
       "      <td>2.86</td>\n",
       "      <td>0.52</td>\n",
       "      <td>0.98</td>\n",
       "      <td>0.07</td>\n",
       "      <td>221.73</td>\n",
       "      <td>5.67</td>\n",
       "      <td>0.0</td>\n",
       "      <td>0.99</td>\n",
       "    </tr>\n",
       "    <tr>\n",
       "      <th>3</th>\n",
       "      <td>1.0</td>\n",
       "      <td>1.0</td>\n",
       "      <td>2390.40</td>\n",
       "      <td>2141.75</td>\n",
       "      <td>2086.02</td>\n",
       "      <td>2154.69</td>\n",
       "      <td>1247.48</td>\n",
       "      <td>1903.36</td>\n",
       "      <td>2232.54</td>\n",
       "      <td>2146.34</td>\n",
       "      <td>2201.53</td>\n",
       "      <td>3315.03</td>\n",
       "      <td>2274.76</td>\n",
       "      <td>0.0</td>\n",
       "      <td>0.0</td>\n",
       "      <td>4.39</td>\n",
       "      <td>5.18</td>\n",
       "      <td>5.70</td>\n",
       "      <td>0.24</td>\n",
       "      <td>2.69</td>\n",
       "      <td>0.29</td>\n",
       "      <td>19.63</td>\n",
       "      <td>3.36</td>\n",
       "      <td>0.0</td>\n",
       "      <td>0.75</td>\n",
       "    </tr>\n",
       "    <tr>\n",
       "      <th>4</th>\n",
       "      <td>1.0</td>\n",
       "      <td>1.0</td>\n",
       "      <td>1822.14</td>\n",
       "      <td>2202.60</td>\n",
       "      <td>2150.07</td>\n",
       "      <td>2194.25</td>\n",
       "      <td>1575.43</td>\n",
       "      <td>2345.59</td>\n",
       "      <td>1976.82</td>\n",
       "      <td>1440.78</td>\n",
       "      <td>2061.06</td>\n",
       "      <td>2927.96</td>\n",
       "      <td>2073.16</td>\n",
       "      <td>0.0</td>\n",
       "      <td>0.0</td>\n",
       "      <td>16.47</td>\n",
       "      <td>4.92</td>\n",
       "      <td>0.56</td>\n",
       "      <td>1.12</td>\n",
       "      <td>0.81</td>\n",
       "      <td>0.85</td>\n",
       "      <td>6.07</td>\n",
       "      <td>11.22</td>\n",
       "      <td>1.0</td>\n",
       "      <td>1.00</td>\n",
       "    </tr>\n",
       "    <tr>\n",
       "      <th>...</th>\n",
       "      <td>...</td>\n",
       "      <td>...</td>\n",
       "      <td>...</td>\n",
       "      <td>...</td>\n",
       "      <td>...</td>\n",
       "      <td>...</td>\n",
       "      <td>...</td>\n",
       "      <td>...</td>\n",
       "      <td>...</td>\n",
       "      <td>...</td>\n",
       "      <td>...</td>\n",
       "      <td>...</td>\n",
       "      <td>...</td>\n",
       "      <td>...</td>\n",
       "      <td>...</td>\n",
       "      <td>...</td>\n",
       "      <td>...</td>\n",
       "      <td>...</td>\n",
       "      <td>...</td>\n",
       "      <td>...</td>\n",
       "      <td>...</td>\n",
       "      <td>...</td>\n",
       "      <td>...</td>\n",
       "      <td>...</td>\n",
       "      <td>...</td>\n",
       "    </tr>\n",
       "    <tr>\n",
       "      <th>9800708</th>\n",
       "      <td>1.0</td>\n",
       "      <td>1.0</td>\n",
       "      <td>1992.62</td>\n",
       "      <td>1860.16</td>\n",
       "      <td>1737.14</td>\n",
       "      <td>2004.58</td>\n",
       "      <td>1383.97</td>\n",
       "      <td>1920.82</td>\n",
       "      <td>2114.38</td>\n",
       "      <td>1853.61</td>\n",
       "      <td>2316.68</td>\n",
       "      <td>2808.22</td>\n",
       "      <td>2009.50</td>\n",
       "      <td>0.0</td>\n",
       "      <td>0.0</td>\n",
       "      <td>6.96</td>\n",
       "      <td>3.10</td>\n",
       "      <td>1.29</td>\n",
       "      <td>0.60</td>\n",
       "      <td>1.03</td>\n",
       "      <td>0.19</td>\n",
       "      <td>93.51</td>\n",
       "      <td>26.10</td>\n",
       "      <td>0.0</td>\n",
       "      <td>0.00</td>\n",
       "    </tr>\n",
       "    <tr>\n",
       "      <th>9800709</th>\n",
       "      <td>1.0</td>\n",
       "      <td>1.0</td>\n",
       "      <td>5976.93</td>\n",
       "      <td>4397.46</td>\n",
       "      <td>6862.02</td>\n",
       "      <td>8158.80</td>\n",
       "      <td>7393.91</td>\n",
       "      <td>6670.03</td>\n",
       "      <td>7471.60</td>\n",
       "      <td>6433.00</td>\n",
       "      <td>7949.63</td>\n",
       "      <td>6921.60</td>\n",
       "      <td>7307.50</td>\n",
       "      <td>0.0</td>\n",
       "      <td>0.0</td>\n",
       "      <td>4.64</td>\n",
       "      <td>15.16</td>\n",
       "      <td>4.36</td>\n",
       "      <td>1.75</td>\n",
       "      <td>1.05</td>\n",
       "      <td>0.43</td>\n",
       "      <td>35.09</td>\n",
       "      <td>8.07</td>\n",
       "      <td>0.0</td>\n",
       "      <td>0.00</td>\n",
       "    </tr>\n",
       "    <tr>\n",
       "      <th>9800710</th>\n",
       "      <td>1.0</td>\n",
       "      <td>1.0</td>\n",
       "      <td>1527.87</td>\n",
       "      <td>1330.32</td>\n",
       "      <td>2201.89</td>\n",
       "      <td>1426.91</td>\n",
       "      <td>1426.24</td>\n",
       "      <td>2203.92</td>\n",
       "      <td>1502.89</td>\n",
       "      <td>2038.32</td>\n",
       "      <td>1851.13</td>\n",
       "      <td>2935.59</td>\n",
       "      <td>1841.06</td>\n",
       "      <td>0.0</td>\n",
       "      <td>0.0</td>\n",
       "      <td>0.45</td>\n",
       "      <td>0.53</td>\n",
       "      <td>0.33</td>\n",
       "      <td>4.90</td>\n",
       "      <td>1.68</td>\n",
       "      <td>0.49</td>\n",
       "      <td>269.80</td>\n",
       "      <td>2.01</td>\n",
       "      <td>0.0</td>\n",
       "      <td>0.00</td>\n",
       "    </tr>\n",
       "    <tr>\n",
       "      <th>9800711</th>\n",
       "      <td>1.0</td>\n",
       "      <td>1.0</td>\n",
       "      <td>1873.27</td>\n",
       "      <td>1896.30</td>\n",
       "      <td>2414.30</td>\n",
       "      <td>2430.21</td>\n",
       "      <td>1843.88</td>\n",
       "      <td>2349.95</td>\n",
       "      <td>1996.40</td>\n",
       "      <td>1962.01</td>\n",
       "      <td>2305.88</td>\n",
       "      <td>3010.01</td>\n",
       "      <td>2253.48</td>\n",
       "      <td>0.0</td>\n",
       "      <td>0.0</td>\n",
       "      <td>1.40</td>\n",
       "      <td>13.60</td>\n",
       "      <td>1.38</td>\n",
       "      <td>0.79</td>\n",
       "      <td>0.16</td>\n",
       "      <td>0.01</td>\n",
       "      <td>111.13</td>\n",
       "      <td>5.74</td>\n",
       "      <td>1.0</td>\n",
       "      <td>0.00</td>\n",
       "    </tr>\n",
       "    <tr>\n",
       "      <th>9800712</th>\n",
       "      <td>1.0</td>\n",
       "      <td>1.0</td>\n",
       "      <td>2196.23</td>\n",
       "      <td>2247.03</td>\n",
       "      <td>1538.97</td>\n",
       "      <td>1858.81</td>\n",
       "      <td>1240.63</td>\n",
       "      <td>1853.44</td>\n",
       "      <td>1674.52</td>\n",
       "      <td>1604.20</td>\n",
       "      <td>1941.70</td>\n",
       "      <td>2971.14</td>\n",
       "      <td>2029.47</td>\n",
       "      <td>0.0</td>\n",
       "      <td>0.0</td>\n",
       "      <td>11.58</td>\n",
       "      <td>4.11</td>\n",
       "      <td>3.02</td>\n",
       "      <td>0.23</td>\n",
       "      <td>0.06</td>\n",
       "      <td>0.27</td>\n",
       "      <td>12.55</td>\n",
       "      <td>2.87</td>\n",
       "      <td>1.0</td>\n",
       "      <td>0.00</td>\n",
       "    </tr>\n",
       "  </tbody>\n",
       "</table>\n",
       "<p>9800713 rows × 25 columns</p>\n",
       "</div>"
      ],
      "text/plain": [
       "         qs1  qr1       s1       s2       s3  ...   dq9    dq10   dq11  dq12  dq13\n",
       "0        1.0  1.0  2405.94  1981.09  2677.84  ...  0.14   74.96   6.84   0.0  0.00\n",
       "1        1.0  1.0  3241.37  2015.24  3987.19  ...  2.42   83.22   1.65   0.0  0.01\n",
       "2        1.0  1.0  2199.22  2549.59  2164.41  ...  0.07  221.73   5.67   0.0  0.99\n",
       "3        1.0  1.0  2390.40  2141.75  2086.02  ...  0.29   19.63   3.36   0.0  0.75\n",
       "4        1.0  1.0  1822.14  2202.60  2150.07  ...  0.85    6.07  11.22   1.0  1.00\n",
       "...      ...  ...      ...      ...      ...  ...   ...     ...    ...   ...   ...\n",
       "9800708  1.0  1.0  1992.62  1860.16  1737.14  ...  0.19   93.51  26.10   0.0  0.00\n",
       "9800709  1.0  1.0  5976.93  4397.46  6862.02  ...  0.43   35.09   8.07   0.0  0.00\n",
       "9800710  1.0  1.0  1527.87  1330.32  2201.89  ...  0.49  269.80   2.01   0.0  0.00\n",
       "9800711  1.0  1.0  1873.27  1896.30  2414.30  ...  0.01  111.13   5.74   1.0  0.00\n",
       "9800712  1.0  1.0  2196.23  2247.03  1538.97  ...  0.27   12.55   2.87   1.0  0.00\n",
       "\n",
       "[9800713 rows x 25 columns]"
      ]
     },
     "execution_count": 14,
     "metadata": {
      "tags": []
     },
     "output_type": "execute_result"
    }
   ],
   "source": [
    "xtrain_fe"
   ]
  },
  {
   "cell_type": "code",
   "execution_count": 0,
   "metadata": {
    "colab": {},
    "colab_type": "code",
    "id": "bTsRqSclPwcr"
   },
   "outputs": [],
   "source": [
    "scaler = preprocessing.StandardScaler()\n",
    "xtrain_s = scaler.fit_transform(xtrain[scores])\n",
    "xtrain_fe[scores] = pd.DataFrame(xtrain_s, columns=xtrain[scores].columns)"
   ]
  },
  {
   "cell_type": "code",
   "execution_count": 0,
   "metadata": {
    "colab": {
     "base_uri": "https://localhost:8080/",
     "height": 439
    },
    "colab_type": "code",
    "executionInfo": {
     "elapsed": 623,
     "status": "ok",
     "timestamp": 1582928930224,
     "user": {
      "displayName": "Fayyaz ALI",
      "photoUrl": "",
      "userId": "03919327045185491199"
     },
     "user_tz": -60
    },
    "id": "nNejiskkPxQG",
    "outputId": "6a0814ff-9ded-46d8-f204-82cdf24ae41f"
   },
   "outputs": [
    {
     "data": {
      "text/html": [
       "<div>\n",
       "<style scoped>\n",
       "    .dataframe tbody tr th:only-of-type {\n",
       "        vertical-align: middle;\n",
       "    }\n",
       "\n",
       "    .dataframe tbody tr th {\n",
       "        vertical-align: top;\n",
       "    }\n",
       "\n",
       "    .dataframe thead th {\n",
       "        text-align: right;\n",
       "    }\n",
       "</style>\n",
       "<table border=\"1\" class=\"dataframe\">\n",
       "  <thead>\n",
       "    <tr style=\"text-align: right;\">\n",
       "      <th></th>\n",
       "      <th>qs1</th>\n",
       "      <th>qr1</th>\n",
       "      <th>s1</th>\n",
       "      <th>s2</th>\n",
       "      <th>s3</th>\n",
       "      <th>s4</th>\n",
       "      <th>s5</th>\n",
       "      <th>s6</th>\n",
       "      <th>s7</th>\n",
       "      <th>s8</th>\n",
       "      <th>s9</th>\n",
       "      <th>s10</th>\n",
       "      <th>s11</th>\n",
       "      <th>dq2</th>\n",
       "      <th>dq3</th>\n",
       "      <th>dq4</th>\n",
       "      <th>dq5</th>\n",
       "      <th>dq6</th>\n",
       "      <th>dq7</th>\n",
       "      <th>dq8</th>\n",
       "      <th>dq9</th>\n",
       "      <th>dq10</th>\n",
       "      <th>dq11</th>\n",
       "      <th>dq12</th>\n",
       "      <th>dq13</th>\n",
       "    </tr>\n",
       "  </thead>\n",
       "  <tbody>\n",
       "    <tr>\n",
       "      <th>0</th>\n",
       "      <td>1.0</td>\n",
       "      <td>1.0</td>\n",
       "      <td>-0.015419</td>\n",
       "      <td>-0.328736</td>\n",
       "      <td>0.046298</td>\n",
       "      <td>-0.126181</td>\n",
       "      <td>-0.442403</td>\n",
       "      <td>-0.240677</td>\n",
       "      <td>-0.173889</td>\n",
       "      <td>0.101115</td>\n",
       "      <td>-0.177815</td>\n",
       "      <td>-0.148128</td>\n",
       "      <td>0.000591</td>\n",
       "      <td>0.0</td>\n",
       "      <td>0.0</td>\n",
       "      <td>3.20</td>\n",
       "      <td>7.26</td>\n",
       "      <td>2.70</td>\n",
       "      <td>1.96</td>\n",
       "      <td>1.74</td>\n",
       "      <td>0.14</td>\n",
       "      <td>74.96</td>\n",
       "      <td>6.84</td>\n",
       "      <td>0.0</td>\n",
       "      <td>0.00</td>\n",
       "    </tr>\n",
       "    <tr>\n",
       "      <th>1</th>\n",
       "      <td>1.0</td>\n",
       "      <td>1.0</td>\n",
       "      <td>0.790505</td>\n",
       "      <td>-0.292921</td>\n",
       "      <td>1.085450</td>\n",
       "      <td>0.500696</td>\n",
       "      <td>0.325220</td>\n",
       "      <td>0.390428</td>\n",
       "      <td>0.230365</td>\n",
       "      <td>0.956767</td>\n",
       "      <td>-0.143895</td>\n",
       "      <td>0.247196</td>\n",
       "      <td>0.439003</td>\n",
       "      <td>0.0</td>\n",
       "      <td>0.0</td>\n",
       "      <td>0.07</td>\n",
       "      <td>14.47</td>\n",
       "      <td>3.00</td>\n",
       "      <td>0.38</td>\n",
       "      <td>0.88</td>\n",
       "      <td>2.42</td>\n",
       "      <td>83.22</td>\n",
       "      <td>1.65</td>\n",
       "      <td>0.0</td>\n",
       "      <td>0.01</td>\n",
       "    </tr>\n",
       "    <tr>\n",
       "      <th>2</th>\n",
       "      <td>1.0</td>\n",
       "      <td>1.0</td>\n",
       "      <td>-0.214838</td>\n",
       "      <td>0.267482</td>\n",
       "      <td>-0.361180</td>\n",
       "      <td>-0.391662</td>\n",
       "      <td>-0.608756</td>\n",
       "      <td>-0.281905</td>\n",
       "      <td>-0.510186</td>\n",
       "      <td>-0.096380</td>\n",
       "      <td>-0.708980</td>\n",
       "      <td>-0.354392</td>\n",
       "      <td>-0.174434</td>\n",
       "      <td>0.0</td>\n",
       "      <td>0.0</td>\n",
       "      <td>46.34</td>\n",
       "      <td>9.30</td>\n",
       "      <td>2.86</td>\n",
       "      <td>0.52</td>\n",
       "      <td>0.98</td>\n",
       "      <td>0.07</td>\n",
       "      <td>221.73</td>\n",
       "      <td>5.67</td>\n",
       "      <td>0.0</td>\n",
       "      <td>0.99</td>\n",
       "    </tr>\n",
       "    <tr>\n",
       "      <th>3</th>\n",
       "      <td>1.0</td>\n",
       "      <td>1.0</td>\n",
       "      <td>-0.030410</td>\n",
       "      <td>-0.160243</td>\n",
       "      <td>-0.423394</td>\n",
       "      <td>-0.352890</td>\n",
       "      <td>-0.636109</td>\n",
       "      <td>-0.474730</td>\n",
       "      <td>-0.093293</td>\n",
       "      <td>-0.213391</td>\n",
       "      <td>-0.395603</td>\n",
       "      <td>0.010533</td>\n",
       "      <td>-0.366848</td>\n",
       "      <td>0.0</td>\n",
       "      <td>0.0</td>\n",
       "      <td>4.39</td>\n",
       "      <td>5.18</td>\n",
       "      <td>5.70</td>\n",
       "      <td>0.24</td>\n",
       "      <td>2.69</td>\n",
       "      <td>0.29</td>\n",
       "      <td>19.63</td>\n",
       "      <td>3.36</td>\n",
       "      <td>0.0</td>\n",
       "      <td>0.75</td>\n",
       "    </tr>\n",
       "    <tr>\n",
       "      <th>4</th>\n",
       "      <td>1.0</td>\n",
       "      <td>1.0</td>\n",
       "      <td>-0.578601</td>\n",
       "      <td>-0.096426</td>\n",
       "      <td>-0.372561</td>\n",
       "      <td>-0.324486</td>\n",
       "      <td>-0.444714</td>\n",
       "      <td>-0.108249</td>\n",
       "      <td>-0.274448</td>\n",
       "      <td>-0.723923</td>\n",
       "      <td>-0.498779</td>\n",
       "      <td>-0.446237</td>\n",
       "      <td>-0.533862</td>\n",
       "      <td>0.0</td>\n",
       "      <td>0.0</td>\n",
       "      <td>16.47</td>\n",
       "      <td>4.92</td>\n",
       "      <td>0.56</td>\n",
       "      <td>1.12</td>\n",
       "      <td>0.81</td>\n",
       "      <td>0.85</td>\n",
       "      <td>6.07</td>\n",
       "      <td>11.22</td>\n",
       "      <td>1.0</td>\n",
       "      <td>1.00</td>\n",
       "    </tr>\n",
       "    <tr>\n",
       "      <th>...</th>\n",
       "      <td>...</td>\n",
       "      <td>...</td>\n",
       "      <td>...</td>\n",
       "      <td>...</td>\n",
       "      <td>...</td>\n",
       "      <td>...</td>\n",
       "      <td>...</td>\n",
       "      <td>...</td>\n",
       "      <td>...</td>\n",
       "      <td>...</td>\n",
       "      <td>...</td>\n",
       "      <td>...</td>\n",
       "      <td>...</td>\n",
       "      <td>...</td>\n",
       "      <td>...</td>\n",
       "      <td>...</td>\n",
       "      <td>...</td>\n",
       "      <td>...</td>\n",
       "      <td>...</td>\n",
       "      <td>...</td>\n",
       "      <td>...</td>\n",
       "      <td>...</td>\n",
       "      <td>...</td>\n",
       "      <td>...</td>\n",
       "      <td>...</td>\n",
       "    </tr>\n",
       "    <tr>\n",
       "      <th>9800708</th>\n",
       "      <td>1.0</td>\n",
       "      <td>1.0</td>\n",
       "      <td>-0.414142</td>\n",
       "      <td>-0.455563</td>\n",
       "      <td>-0.700279</td>\n",
       "      <td>-0.460668</td>\n",
       "      <td>-0.556452</td>\n",
       "      <td>-0.460260</td>\n",
       "      <td>-0.176999</td>\n",
       "      <td>-0.425206</td>\n",
       "      <td>-0.311025</td>\n",
       "      <td>-0.587538</td>\n",
       "      <td>-0.586600</td>\n",
       "      <td>0.0</td>\n",
       "      <td>0.0</td>\n",
       "      <td>6.96</td>\n",
       "      <td>3.10</td>\n",
       "      <td>1.29</td>\n",
       "      <td>0.60</td>\n",
       "      <td>1.03</td>\n",
       "      <td>0.19</td>\n",
       "      <td>93.51</td>\n",
       "      <td>26.10</td>\n",
       "      <td>0.0</td>\n",
       "      <td>0.00</td>\n",
       "    </tr>\n",
       "    <tr>\n",
       "      <th>9800709</th>\n",
       "      <td>1.0</td>\n",
       "      <td>1.0</td>\n",
       "      <td>3.429450</td>\n",
       "      <td>2.205449</td>\n",
       "      <td>3.367030</td>\n",
       "      <td>3.958055</td>\n",
       "      <td>2.951014</td>\n",
       "      <td>3.475463</td>\n",
       "      <td>3.618113</td>\n",
       "      <td>2.888367</td>\n",
       "      <td>3.826412</td>\n",
       "      <td>4.266534</td>\n",
       "      <td>3.802487</td>\n",
       "      <td>0.0</td>\n",
       "      <td>0.0</td>\n",
       "      <td>4.64</td>\n",
       "      <td>15.16</td>\n",
       "      <td>4.36</td>\n",
       "      <td>1.75</td>\n",
       "      <td>1.05</td>\n",
       "      <td>0.43</td>\n",
       "      <td>35.09</td>\n",
       "      <td>8.07</td>\n",
       "      <td>0.0</td>\n",
       "      <td>0.00</td>\n",
       "    </tr>\n",
       "    <tr>\n",
       "      <th>9800710</th>\n",
       "      <td>1.0</td>\n",
       "      <td>1.0</td>\n",
       "      <td>-0.862478</td>\n",
       "      <td>-1.011236</td>\n",
       "      <td>-0.331435</td>\n",
       "      <td>-0.875435</td>\n",
       "      <td>-0.531783</td>\n",
       "      <td>-0.225652</td>\n",
       "      <td>-0.610185</td>\n",
       "      <td>-0.291553</td>\n",
       "      <td>-0.652974</td>\n",
       "      <td>-0.437233</td>\n",
       "      <td>-0.726143</td>\n",
       "      <td>0.0</td>\n",
       "      <td>0.0</td>\n",
       "      <td>0.45</td>\n",
       "      <td>0.53</td>\n",
       "      <td>0.33</td>\n",
       "      <td>4.90</td>\n",
       "      <td>1.68</td>\n",
       "      <td>0.49</td>\n",
       "      <td>269.80</td>\n",
       "      <td>2.01</td>\n",
       "      <td>0.0</td>\n",
       "      <td>0.00</td>\n",
       "    </tr>\n",
       "    <tr>\n",
       "      <th>9800711</th>\n",
       "      <td>1.0</td>\n",
       "      <td>1.0</td>\n",
       "      <td>-0.529276</td>\n",
       "      <td>-0.417661</td>\n",
       "      <td>-0.162858</td>\n",
       "      <td>-0.155067</td>\n",
       "      <td>-0.288044</td>\n",
       "      <td>-0.104636</td>\n",
       "      <td>-0.260577</td>\n",
       "      <td>-0.346769</td>\n",
       "      <td>-0.318958</td>\n",
       "      <td>-0.349412</td>\n",
       "      <td>-0.384477</td>\n",
       "      <td>0.0</td>\n",
       "      <td>0.0</td>\n",
       "      <td>1.40</td>\n",
       "      <td>13.60</td>\n",
       "      <td>1.38</td>\n",
       "      <td>0.79</td>\n",
       "      <td>0.16</td>\n",
       "      <td>0.01</td>\n",
       "      <td>111.13</td>\n",
       "      <td>5.74</td>\n",
       "      <td>1.0</td>\n",
       "      <td>0.00</td>\n",
       "    </tr>\n",
       "    <tr>\n",
       "      <th>9800712</th>\n",
       "      <td>1.0</td>\n",
       "      <td>1.0</td>\n",
       "      <td>-0.217723</td>\n",
       "      <td>-0.049830</td>\n",
       "      <td>-0.857554</td>\n",
       "      <td>-0.565331</td>\n",
       "      <td>-0.640107</td>\n",
       "      <td>-0.516099</td>\n",
       "      <td>-0.488601</td>\n",
       "      <td>-0.605675</td>\n",
       "      <td>-0.586450</td>\n",
       "      <td>-0.395281</td>\n",
       "      <td>-0.570056</td>\n",
       "      <td>0.0</td>\n",
       "      <td>0.0</td>\n",
       "      <td>11.58</td>\n",
       "      <td>4.11</td>\n",
       "      <td>3.02</td>\n",
       "      <td>0.23</td>\n",
       "      <td>0.06</td>\n",
       "      <td>0.27</td>\n",
       "      <td>12.55</td>\n",
       "      <td>2.87</td>\n",
       "      <td>1.0</td>\n",
       "      <td>0.00</td>\n",
       "    </tr>\n",
       "  </tbody>\n",
       "</table>\n",
       "<p>9800713 rows × 25 columns</p>\n",
       "</div>"
      ],
      "text/plain": [
       "         qs1  qr1        s1        s2  ...    dq10   dq11  dq12  dq13\n",
       "0        1.0  1.0 -0.015419 -0.328736  ...   74.96   6.84   0.0  0.00\n",
       "1        1.0  1.0  0.790505 -0.292921  ...   83.22   1.65   0.0  0.01\n",
       "2        1.0  1.0 -0.214838  0.267482  ...  221.73   5.67   0.0  0.99\n",
       "3        1.0  1.0 -0.030410 -0.160243  ...   19.63   3.36   0.0  0.75\n",
       "4        1.0  1.0 -0.578601 -0.096426  ...    6.07  11.22   1.0  1.00\n",
       "...      ...  ...       ...       ...  ...     ...    ...   ...   ...\n",
       "9800708  1.0  1.0 -0.414142 -0.455563  ...   93.51  26.10   0.0  0.00\n",
       "9800709  1.0  1.0  3.429450  2.205449  ...   35.09   8.07   0.0  0.00\n",
       "9800710  1.0  1.0 -0.862478 -1.011236  ...  269.80   2.01   0.0  0.00\n",
       "9800711  1.0  1.0 -0.529276 -0.417661  ...  111.13   5.74   1.0  0.00\n",
       "9800712  1.0  1.0 -0.217723 -0.049830  ...   12.55   2.87   1.0  0.00\n",
       "\n",
       "[9800713 rows x 25 columns]"
      ]
     },
     "execution_count": 16,
     "metadata": {
      "tags": []
     },
     "output_type": "execute_result"
    }
   ],
   "source": [
    "xtrain_fe"
   ]
  },
  {
   "cell_type": "code",
   "execution_count": 0,
   "metadata": {
    "colab": {},
    "colab_type": "code",
    "id": "fKUCnWZITqcn"
   },
   "outputs": [],
   "source": [
    "xtrain_fe['mean_s'] = xtrain_fe[scores].mean(axis = 1)\n",
    "xtrain_fe['median_s'] = xtrain_fe[scores].median(axis = 1)\n",
    "xtrain_fe['std_s'] = xtrain_fe[scores].std(axis = 1)"
   ]
  },
  {
   "cell_type": "code",
   "execution_count": 0,
   "metadata": {
    "colab": {},
    "colab_type": "code",
    "id": "qRROPOe_T-13"
   },
   "outputs": [],
   "source": [
    "xtrain_fe = xtrain_fe.drop(columns =scores)"
   ]
  },
  {
   "cell_type": "code",
   "execution_count": 0,
   "metadata": {
    "colab": {
     "base_uri": "https://localhost:8080/",
     "height": 419
    },
    "colab_type": "code",
    "executionInfo": {
     "elapsed": 750,
     "status": "ok",
     "timestamp": 1582918994469,
     "user": {
      "displayName": "Fayyaz ALI",
      "photoUrl": "",
      "userId": "03919327045185491199"
     },
     "user_tz": -60
    },
    "id": "wjdjy57TUTT0",
    "outputId": "8eb68ce8-3174-469c-d973-3f9918ab9255"
   },
   "outputs": [
    {
     "data": {
      "text/html": [
       "<div>\n",
       "<style scoped>\n",
       "    .dataframe tbody tr th:only-of-type {\n",
       "        vertical-align: middle;\n",
       "    }\n",
       "\n",
       "    .dataframe tbody tr th {\n",
       "        vertical-align: top;\n",
       "    }\n",
       "\n",
       "    .dataframe thead th {\n",
       "        text-align: right;\n",
       "    }\n",
       "</style>\n",
       "<table border=\"1\" class=\"dataframe\">\n",
       "  <thead>\n",
       "    <tr style=\"text-align: right;\">\n",
       "      <th></th>\n",
       "      <th>qs1</th>\n",
       "      <th>qr1</th>\n",
       "      <th>dq2</th>\n",
       "      <th>dq3</th>\n",
       "      <th>dq4</th>\n",
       "      <th>dq5</th>\n",
       "      <th>dq6</th>\n",
       "      <th>dq7</th>\n",
       "      <th>dq8</th>\n",
       "      <th>dq9</th>\n",
       "      <th>dq10</th>\n",
       "      <th>dq11</th>\n",
       "      <th>dq12</th>\n",
       "      <th>dq13</th>\n",
       "      <th>mean_s</th>\n",
       "      <th>median_s</th>\n",
       "      <th>std_s</th>\n",
       "    </tr>\n",
       "  </thead>\n",
       "  <tbody>\n",
       "    <tr>\n",
       "      <th>0</th>\n",
       "      <td>1.0</td>\n",
       "      <td>1.0</td>\n",
       "      <td>0.0</td>\n",
       "      <td>0.0</td>\n",
       "      <td>3.20</td>\n",
       "      <td>7.26</td>\n",
       "      <td>2.70</td>\n",
       "      <td>1.96</td>\n",
       "      <td>1.74</td>\n",
       "      <td>0.14</td>\n",
       "      <td>74.96</td>\n",
       "      <td>6.84</td>\n",
       "      <td>0.0</td>\n",
       "      <td>0.00</td>\n",
       "      <td>-0.136840</td>\n",
       "      <td>-0.148128</td>\n",
       "      <td>0.163725</td>\n",
       "    </tr>\n",
       "    <tr>\n",
       "      <th>1</th>\n",
       "      <td>1.0</td>\n",
       "      <td>1.0</td>\n",
       "      <td>0.0</td>\n",
       "      <td>0.0</td>\n",
       "      <td>0.07</td>\n",
       "      <td>14.47</td>\n",
       "      <td>3.00</td>\n",
       "      <td>0.38</td>\n",
       "      <td>0.88</td>\n",
       "      <td>2.42</td>\n",
       "      <td>83.22</td>\n",
       "      <td>1.65</td>\n",
       "      <td>0.0</td>\n",
       "      <td>0.01</td>\n",
       "      <td>0.411710</td>\n",
       "      <td>0.390428</td>\n",
       "      <td>0.421456</td>\n",
       "    </tr>\n",
       "    <tr>\n",
       "      <th>2</th>\n",
       "      <td>1.0</td>\n",
       "      <td>1.0</td>\n",
       "      <td>0.0</td>\n",
       "      <td>0.0</td>\n",
       "      <td>46.34</td>\n",
       "      <td>9.30</td>\n",
       "      <td>2.86</td>\n",
       "      <td>0.52</td>\n",
       "      <td>0.98</td>\n",
       "      <td>0.07</td>\n",
       "      <td>221.73</td>\n",
       "      <td>5.67</td>\n",
       "      <td>0.0</td>\n",
       "      <td>0.99</td>\n",
       "      <td>-0.312294</td>\n",
       "      <td>-0.354392</td>\n",
       "      <td>0.265906</td>\n",
       "    </tr>\n",
       "    <tr>\n",
       "      <th>3</th>\n",
       "      <td>1.0</td>\n",
       "      <td>1.0</td>\n",
       "      <td>0.0</td>\n",
       "      <td>0.0</td>\n",
       "      <td>4.39</td>\n",
       "      <td>5.18</td>\n",
       "      <td>5.70</td>\n",
       "      <td>0.24</td>\n",
       "      <td>2.69</td>\n",
       "      <td>0.29</td>\n",
       "      <td>19.63</td>\n",
       "      <td>3.36</td>\n",
       "      <td>0.0</td>\n",
       "      <td>0.75</td>\n",
       "      <td>-0.285125</td>\n",
       "      <td>-0.352890</td>\n",
       "      <td>0.202871</td>\n",
       "    </tr>\n",
       "    <tr>\n",
       "      <th>4</th>\n",
       "      <td>1.0</td>\n",
       "      <td>1.0</td>\n",
       "      <td>0.0</td>\n",
       "      <td>0.0</td>\n",
       "      <td>16.47</td>\n",
       "      <td>4.92</td>\n",
       "      <td>0.56</td>\n",
       "      <td>1.12</td>\n",
       "      <td>0.81</td>\n",
       "      <td>0.85</td>\n",
       "      <td>6.07</td>\n",
       "      <td>11.22</td>\n",
       "      <td>1.0</td>\n",
       "      <td>1.00</td>\n",
       "      <td>-0.400208</td>\n",
       "      <td>-0.444714</td>\n",
       "      <td>0.191868</td>\n",
       "    </tr>\n",
       "    <tr>\n",
       "      <th>...</th>\n",
       "      <td>...</td>\n",
       "      <td>...</td>\n",
       "      <td>...</td>\n",
       "      <td>...</td>\n",
       "      <td>...</td>\n",
       "      <td>...</td>\n",
       "      <td>...</td>\n",
       "      <td>...</td>\n",
       "      <td>...</td>\n",
       "      <td>...</td>\n",
       "      <td>...</td>\n",
       "      <td>...</td>\n",
       "      <td>...</td>\n",
       "      <td>...</td>\n",
       "      <td>...</td>\n",
       "      <td>...</td>\n",
       "      <td>...</td>\n",
       "    </tr>\n",
       "    <tr>\n",
       "      <th>9800708</th>\n",
       "      <td>1.0</td>\n",
       "      <td>1.0</td>\n",
       "      <td>0.0</td>\n",
       "      <td>0.0</td>\n",
       "      <td>6.96</td>\n",
       "      <td>3.10</td>\n",
       "      <td>1.29</td>\n",
       "      <td>0.60</td>\n",
       "      <td>1.03</td>\n",
       "      <td>0.19</td>\n",
       "      <td>93.51</td>\n",
       "      <td>26.10</td>\n",
       "      <td>0.0</td>\n",
       "      <td>0.00</td>\n",
       "      <td>-0.466794</td>\n",
       "      <td>-0.460260</td>\n",
       "      <td>0.142982</td>\n",
       "    </tr>\n",
       "    <tr>\n",
       "      <th>9800709</th>\n",
       "      <td>1.0</td>\n",
       "      <td>1.0</td>\n",
       "      <td>0.0</td>\n",
       "      <td>0.0</td>\n",
       "      <td>4.64</td>\n",
       "      <td>15.16</td>\n",
       "      <td>4.36</td>\n",
       "      <td>1.75</td>\n",
       "      <td>1.05</td>\n",
       "      <td>0.43</td>\n",
       "      <td>35.09</td>\n",
       "      <td>8.07</td>\n",
       "      <td>0.0</td>\n",
       "      <td>0.00</td>\n",
       "      <td>3.435307</td>\n",
       "      <td>3.475463</td>\n",
       "      <td>0.577750</td>\n",
       "    </tr>\n",
       "    <tr>\n",
       "      <th>9800710</th>\n",
       "      <td>1.0</td>\n",
       "      <td>1.0</td>\n",
       "      <td>0.0</td>\n",
       "      <td>0.0</td>\n",
       "      <td>0.45</td>\n",
       "      <td>0.53</td>\n",
       "      <td>0.33</td>\n",
       "      <td>4.90</td>\n",
       "      <td>1.68</td>\n",
       "      <td>0.49</td>\n",
       "      <td>269.80</td>\n",
       "      <td>2.01</td>\n",
       "      <td>0.0</td>\n",
       "      <td>0.00</td>\n",
       "      <td>-0.596010</td>\n",
       "      <td>-0.610185</td>\n",
       "      <td>0.259050</td>\n",
       "    </tr>\n",
       "    <tr>\n",
       "      <th>9800711</th>\n",
       "      <td>1.0</td>\n",
       "      <td>1.0</td>\n",
       "      <td>0.0</td>\n",
       "      <td>0.0</td>\n",
       "      <td>1.40</td>\n",
       "      <td>13.60</td>\n",
       "      <td>1.38</td>\n",
       "      <td>0.79</td>\n",
       "      <td>0.16</td>\n",
       "      <td>0.01</td>\n",
       "      <td>111.13</td>\n",
       "      <td>5.74</td>\n",
       "      <td>1.0</td>\n",
       "      <td>0.00</td>\n",
       "      <td>-0.301612</td>\n",
       "      <td>-0.318958</td>\n",
       "      <td>0.125772</td>\n",
       "    </tr>\n",
       "    <tr>\n",
       "      <th>9800712</th>\n",
       "      <td>1.0</td>\n",
       "      <td>1.0</td>\n",
       "      <td>0.0</td>\n",
       "      <td>0.0</td>\n",
       "      <td>11.58</td>\n",
       "      <td>4.11</td>\n",
       "      <td>3.02</td>\n",
       "      <td>0.23</td>\n",
       "      <td>0.06</td>\n",
       "      <td>0.27</td>\n",
       "      <td>12.55</td>\n",
       "      <td>2.87</td>\n",
       "      <td>1.0</td>\n",
       "      <td>0.00</td>\n",
       "      <td>-0.499337</td>\n",
       "      <td>-0.565331</td>\n",
       "      <td>0.216559</td>\n",
       "    </tr>\n",
       "  </tbody>\n",
       "</table>\n",
       "<p>9800713 rows × 17 columns</p>\n",
       "</div>"
      ],
      "text/plain": [
       "         qs1  qr1  dq2  dq3    dq4  ...  dq12  dq13    mean_s  median_s     std_s\n",
       "0        1.0  1.0  0.0  0.0   3.20  ...   0.0  0.00 -0.136840 -0.148128  0.163725\n",
       "1        1.0  1.0  0.0  0.0   0.07  ...   0.0  0.01  0.411710  0.390428  0.421456\n",
       "2        1.0  1.0  0.0  0.0  46.34  ...   0.0  0.99 -0.312294 -0.354392  0.265906\n",
       "3        1.0  1.0  0.0  0.0   4.39  ...   0.0  0.75 -0.285125 -0.352890  0.202871\n",
       "4        1.0  1.0  0.0  0.0  16.47  ...   1.0  1.00 -0.400208 -0.444714  0.191868\n",
       "...      ...  ...  ...  ...    ...  ...   ...   ...       ...       ...       ...\n",
       "9800708  1.0  1.0  0.0  0.0   6.96  ...   0.0  0.00 -0.466794 -0.460260  0.142982\n",
       "9800709  1.0  1.0  0.0  0.0   4.64  ...   0.0  0.00  3.435307  3.475463  0.577750\n",
       "9800710  1.0  1.0  0.0  0.0   0.45  ...   0.0  0.00 -0.596010 -0.610185  0.259050\n",
       "9800711  1.0  1.0  0.0  0.0   1.40  ...   1.0  0.00 -0.301612 -0.318958  0.125772\n",
       "9800712  1.0  1.0  0.0  0.0  11.58  ...   1.0  0.00 -0.499337 -0.565331  0.216559\n",
       "\n",
       "[9800713 rows x 17 columns]"
      ]
     },
     "execution_count": 26,
     "metadata": {
      "tags": []
     },
     "output_type": "execute_result"
    }
   ],
   "source": [
    "xtrain_fe"
   ]
  },
  {
   "cell_type": "code",
   "execution_count": 0,
   "metadata": {
    "colab": {},
    "colab_type": "code",
    "id": "YLn2Bi1RUCSC"
   },
   "outputs": [],
   "source": [
    "clf = lgb.LGBMClassifier(learning_rate = 0.008, max_depth = 100, n_estimators=10000,n_jobs=-1, silent = False)"
   ]
  },
  {
   "cell_type": "code",
   "execution_count": 0,
   "metadata": {
    "colab": {
     "base_uri": "https://localhost:8080/",
     "height": 119
    },
    "colab_type": "code",
    "executionInfo": {
     "elapsed": 3979927,
     "status": "ok",
     "timestamp": 1582924860776,
     "user": {
      "displayName": "Fayyaz ALI",
      "photoUrl": "",
      "userId": "03919327045185491199"
     },
     "user_tz": -60
    },
    "id": "DrqKzRTCUwdi",
    "outputId": "1f02ac35-196d-43d4-d85e-4463d68538e5"
   },
   "outputs": [
    {
     "data": {
      "text/plain": [
       "LGBMClassifier(boosting_type='gbdt', class_weight=None, colsample_bytree=1.0,\n",
       "               importance_type='split', learning_rate=0.008, max_depth=100,\n",
       "               min_child_samples=20, min_child_weight=0.001, min_split_gain=0.0,\n",
       "               n_estimators=10000, n_jobs=-1, num_leaves=31, objective=None,\n",
       "               random_state=None, reg_alpha=0.0, reg_lambda=0.0, silent=False,\n",
       "               subsample=1.0, subsample_for_bin=200000, subsample_freq=0)"
      ]
     },
     "execution_count": 31,
     "metadata": {
      "tags": []
     },
     "output_type": "execute_result"
    }
   ],
   "source": [
    "clf.fit(xtrain_fe.to_numpy(),ytrain['y'].values.ravel())"
   ]
  },
  {
   "cell_type": "code",
   "execution_count": 0,
   "metadata": {
    "colab": {
     "base_uri": "https://localhost:8080/",
     "height": 34
    },
    "colab_type": "code",
    "executionInfo": {
     "elapsed": 1791804,
     "status": "ok",
     "timestamp": 1582926734989,
     "user": {
      "displayName": "Fayyaz ALI",
      "photoUrl": "",
      "userId": "03919327045185491199"
     },
     "user_tz": -60
    },
    "id": "mml5PDcXVGl_",
    "outputId": "6dc74455-9e34-47f2-996b-68fce0666371"
   },
   "outputs": [
    {
     "name": "stdout",
     "output_type": "stream",
     "text": [
      "0.9363169561935779\n"
     ]
    }
   ],
   "source": [
    "fpr, tpr, threshold = roc_curve(ytrain['y'],  clf.predict_proba(xtrain_fe)[:,clf.classes_ == 1][:,0])\n",
    "print(tpr[fpr<=0.0001][-1])"
   ]
  },
  {
   "cell_type": "code",
   "execution_count": 0,
   "metadata": {
    "colab": {},
    "colab_type": "code",
    "id": "OlUSYMU3jkmE"
   },
   "outputs": [],
   "source": [
    "xtrain_s = scaler.fit_transform(xtest_fe[scores])\n",
    "xtest_fe[scores] = pd.DataFrame(xtrain_s, columns=xtest[scores].columns)"
   ]
  },
  {
   "cell_type": "code",
   "execution_count": 0,
   "metadata": {
    "colab": {},
    "colab_type": "code",
    "id": "j8YI3I2Rj4VP"
   },
   "outputs": [],
   "source": [
    "xtest_fe['mean_s'] = xtest_fe[scores].mean(axis = 1)\n",
    "xtest_fe['median_s'] = xtest_fe[scores].median(axis = 1)\n",
    "xtest_fe['std_s'] = xtest_fe[scores].std(axis = 1)"
   ]
  },
  {
   "cell_type": "code",
   "execution_count": 0,
   "metadata": {
    "colab": {},
    "colab_type": "code",
    "id": "bnhjFpVXn6UX"
   },
   "outputs": [],
   "source": [
    "xtest_fe = xtest_fe.drop(columns = scores)"
   ]
  },
  {
   "cell_type": "code",
   "execution_count": 0,
   "metadata": {
    "colab": {},
    "colab_type": "code",
    "id": "pCvz6OvAjYrE"
   },
   "outputs": [],
   "source": [
    "ytest = clf.predict_proba(xtest_fe.to_numpy())[:,clf.classes_ == 1][:,0]"
   ]
  },
  {
   "cell_type": "code",
   "execution_count": 0,
   "metadata": {
    "colab": {},
    "colab_type": "code",
    "id": "CqjNM_D4kL7S"
   },
   "outputs": [],
   "source": [
    "np.savetxt('/content/drive/My Drive/Colab Notebooks/ytest_challenge_Fayyaz_last.csv', ytest, fmt = '%1.15f', delimiter=',')"
   ]
  },
  {
   "cell_type": "markdown",
   "metadata": {
    "colab_type": "text",
    "id": "VuhBC6fYxihA"
   },
   "source": []
  },
  {
   "cell_type": "code",
   "execution_count": 0,
   "metadata": {
    "colab": {},
    "colab_type": "code",
    "id": "V9Z0owBgZ_Xc"
   },
   "outputs": [],
   "source": [
    "clf_xgb = XGBClassifier(learning_rate =0.001, tree_method = 'gpu_hist', n_estimators =10000, min_child_weight = 1, verbose = True)"
   ]
  },
  {
   "cell_type": "code",
   "execution_count": 0,
   "metadata": {
    "colab": {
     "base_uri": "https://localhost:8080/",
     "height": 153
    },
    "colab_type": "code",
    "executionInfo": {
     "elapsed": 683829,
     "status": "ok",
     "timestamp": 1582931005585,
     "user": {
      "displayName": "Fayyaz ALI",
      "photoUrl": "",
      "userId": "03919327045185491199"
     },
     "user_tz": -60
    },
    "id": "IRZNPgiFblCV",
    "outputId": "de85f7bc-905c-42d8-fbc9-e0b7b30c4358"
   },
   "outputs": [
    {
     "data": {
      "text/plain": [
       "XGBClassifier(base_score=0.5, booster='gbtree', colsample_bylevel=1,\n",
       "              colsample_bynode=1, colsample_bytree=1, gamma=0,\n",
       "              learning_rate=0.001, max_delta_step=0, max_depth=3,\n",
       "              min_child_weight=1, missing=None, n_estimators=10000, n_jobs=1,\n",
       "              nthread=None, objective='binary:logistic', random_state=0,\n",
       "              reg_alpha=0, reg_lambda=1, scale_pos_weight=1, seed=None,\n",
       "              silent=None, subsample=1, tree_method='gpu_hist', verbose=True,\n",
       "              verbosity=1)"
      ]
     },
     "execution_count": 34,
     "metadata": {
      "tags": []
     },
     "output_type": "execute_result"
    }
   ],
   "source": [
    "clf_xgb.fit(xtrain_fe,ytrain['y'])"
   ]
  },
  {
   "cell_type": "code",
   "execution_count": 0,
   "metadata": {
    "colab": {
     "base_uri": "https://localhost:8080/",
     "height": 34
    },
    "colab_type": "code",
    "executionInfo": {
     "elapsed": 18677,
     "status": "ok",
     "timestamp": 1582931049588,
     "user": {
      "displayName": "Fayyaz ALI",
      "photoUrl": "",
      "userId": "03919327045185491199"
     },
     "user_tz": -60
    },
    "id": "jYhdLktVcBjf",
    "outputId": "ee2855bd-f501-4e21-bbe9-b04c37275744"
   },
   "outputs": [
    {
     "name": "stdout",
     "output_type": "stream",
     "text": [
      "0.930841896317075\n"
     ]
    }
   ],
   "source": [
    "fpr, tpr, threshold = roc_curve(ytrain['y'],  clf_xgb.predict_proba(xtrain_fe)[:,clf_xgb.classes_ == 1][:,0])\n",
    "print(tpr[fpr<=0.0001][-1])"
   ]
  },
  {
   "cell_type": "code",
   "execution_count": 0,
   "metadata": {
    "colab": {},
    "colab_type": "code",
    "id": "np2g2kIU-M2a"
   },
   "outputs": [],
   "source": [
    "ytest = clf_xgb.predict_proba(xtest_fe)[:,clf_xgb.classes_ == 1][:,0]"
   ]
  },
  {
   "cell_type": "code",
   "execution_count": 0,
   "metadata": {
    "colab": {},
    "colab_type": "code",
    "id": "_NtI1hXs40-a"
   },
   "outputs": [],
   "source": [
    "np.savetxt('/content/drive/My Drive/Colab Notebooks/ytest_challenge_Fayyaz_last2.csv', ytest, fmt = '%1.15f', delimiter=',')"
   ]
  },
  {
   "cell_type": "code",
   "execution_count": 0,
   "metadata": {
    "colab": {},
    "colab_type": "code",
    "id": "2B-OZvKo-Zgp"
   },
   "outputs": [],
   "source": []
  }
 ],
 "metadata": {
  "accelerator": "GPU",
  "colab": {
   "collapsed_sections": [],
   "machine_shape": "hm",
   "name": "Data_Challenge_MDI343_Fayyaz.ipynb",
   "provenance": []
  },
  "kernelspec": {
   "display_name": "Python 3",
   "language": "python",
   "name": "python3"
  },
  "language_info": {
   "codemirror_mode": {
    "name": "ipython",
    "version": 3
   },
   "file_extension": ".py",
   "mimetype": "text/x-python",
   "name": "python",
   "nbconvert_exporter": "python",
   "pygments_lexer": "ipython3",
   "version": "3.7.3"
  }
 },
 "nbformat": 4,
 "nbformat_minor": 1
}
